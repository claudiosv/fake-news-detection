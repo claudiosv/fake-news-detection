{
 "cells": [
  {
   "cell_type": "markdown",
   "id": "97896fdd-82e6-4469-b0e0-5861b3b4d30c",
   "metadata": {},
   "source": [
    "# Setting up virtual environment"
   ]
  },
  {
   "cell_type": "markdown",
   "id": "5445a5cc-a1a3-454b-b8f7-4d0012eff62e",
   "metadata": {},
   "source": [
    "Install Mambaforge https://mamba.readthedocs.io/en/latest/installation.html\n",
    "If you're on MacOS you can run `brew install mambaforge`"
   ]
  },
  {
   "cell_type": "markdown",
   "id": "61c7debb-f773-49b7-a332-a76248db8a03",
   "metadata": {},
   "source": [
    "Create a virtual environment for the project\n",
    "`mamba create -n fakenews python=3.10`"
   ]
  },
  {
   "cell_type": "markdown",
   "id": "4287f82d-4a7a-460c-935e-13a1311bf4d0",
   "metadata": {},
   "source": [
    "Activate the env `mamba activate fakenews`"
   ]
  },
  {
   "cell_type": "markdown",
   "id": "db41f471-d982-42a7-be5e-90c0db011000",
   "metadata": {},
   "source": [
    "Install dependencies we'll need for the project\n",
    "`mamba install -c huggingface transformers=4.26.0 datasets evaluate jupyterlab scikit-learn`\n",
    "\n"
   ]
  },
  {
   "cell_type": "markdown",
   "id": "1f81626d-7b99-486a-b1c6-e36503c89e3b",
   "metadata": {},
   "source": [
    "Run jupyterlab:\n",
    "`jupyter lab`"
   ]
  },
  {
   "cell_type": "code",
   "execution_count": 13,
   "id": "da8b7ce3-816e-4b15-92ba-0fdaf571a885",
   "metadata": {
    "collapsed": true,
    "jupyter": {
     "outputs_hidden": true
    },
    "tags": []
   },
   "outputs": [
    {
     "name": "stdout",
     "output_type": "stream",
     "text": [
      "Collecting package metadata (current_repodata.json): ...working... done\n",
      "Solving environment: ...working... done\n",
      "\n",
      "## Package Plan ##\n",
      "\n",
      "  environment location: C:\\Users\\Erick\\anaconda3\\envs\\fakenews\n",
      "\n",
      "  added / updated specs:\n",
      "    - pytorch\n",
      "\n",
      "\n",
      "The following packages will be downloaded:\n",
      "\n",
      "    package                    |            build\n",
      "    ---------------------------|-----------------\n",
      "    future-0.18.2              |  py310haa95532_1         672 KB\n",
      "    libuv-1.40.0               |       he774522_0         255 KB\n",
      "    ninja-1.10.2               |       haa95532_5          14 KB\n",
      "    ninja-base-1.10.2          |       h6d14046_5         255 KB\n",
      "    pytorch-1.12.1             |cpu_py310h5e1f01c_0        80.7 MB\n",
      "    ------------------------------------------------------------\n",
      "                                           Total:        81.9 MB\n",
      "\n",
      "The following NEW packages will be INSTALLED:\n",
      "\n",
      "  future             pkgs/main/win-64::future-0.18.2-py310haa95532_1\n",
      "  libuv              pkgs/main/win-64::libuv-1.40.0-he774522_0\n",
      "  ninja              pkgs/main/win-64::ninja-1.10.2-haa95532_5\n",
      "  ninja-base         pkgs/main/win-64::ninja-base-1.10.2-h6d14046_5\n",
      "  pytorch            pkgs/main/win-64::pytorch-1.12.1-cpu_py310h5e1f01c_0\n",
      "\n",
      "\n",
      "\n",
      "Downloading and Extracting Packages\n",
      "\n",
      "pytorch-1.12.1       | 80.7 MB   |            |   0% \n",
      "pytorch-1.12.1       | 80.7 MB   |            |   0% \n",
      "pytorch-1.12.1       | 80.7 MB   |            |   0% \n",
      "pytorch-1.12.1       | 80.7 MB   |            |   1% \n",
      "pytorch-1.12.1       | 80.7 MB   | 1          |   2% \n",
      "pytorch-1.12.1       | 80.7 MB   | 2          |   3% \n",
      "pytorch-1.12.1       | 80.7 MB   | 4          |   5% \n",
      "pytorch-1.12.1       | 80.7 MB   | 6          |   6% \n",
      "pytorch-1.12.1       | 80.7 MB   | 8          |   8% \n",
      "pytorch-1.12.1       | 80.7 MB   | 9          |  10% \n",
      "pytorch-1.12.1       | 80.7 MB   | #1         |  12% \n",
      "pytorch-1.12.1       | 80.7 MB   | #3         |  14% \n",
      "pytorch-1.12.1       | 80.7 MB   | #5         |  16% \n",
      "pytorch-1.12.1       | 80.7 MB   | #7         |  18% \n",
      "pytorch-1.12.1       | 80.7 MB   | #9         |  20% \n",
      "pytorch-1.12.1       | 80.7 MB   | ##1        |  22% \n",
      "pytorch-1.12.1       | 80.7 MB   | ##3        |  23% \n",
      "pytorch-1.12.1       | 80.7 MB   | ##4        |  24% \n",
      "pytorch-1.12.1       | 80.7 MB   | ##5        |  25% \n",
      "pytorch-1.12.1       | 80.7 MB   | ##6        |  26% \n",
      "pytorch-1.12.1       | 80.7 MB   | ##7        |  28% \n",
      "pytorch-1.12.1       | 80.7 MB   | ##9        |  29% \n",
      "pytorch-1.12.1       | 80.7 MB   | ###        |  30% \n",
      "pytorch-1.12.1       | 80.7 MB   | ###2       |  32% \n",
      "pytorch-1.12.1       | 80.7 MB   | ###4       |  34% \n",
      "pytorch-1.12.1       | 80.7 MB   | ###6       |  36% \n",
      "pytorch-1.12.1       | 80.7 MB   | ###8       |  38% \n",
      "pytorch-1.12.1       | 80.7 MB   | ####       |  40% \n",
      "pytorch-1.12.1       | 80.7 MB   | ####1      |  42% \n",
      "pytorch-1.12.1       | 80.7 MB   | ####3      |  43% \n",
      "pytorch-1.12.1       | 80.7 MB   | ####4      |  44% \n",
      "pytorch-1.12.1       | 80.7 MB   | ####5      |  46% \n",
      "pytorch-1.12.1       | 80.7 MB   | ####6      |  47% \n",
      "pytorch-1.12.1       | 80.7 MB   | ####7      |  48% \n",
      "pytorch-1.12.1       | 80.7 MB   | ####9      |  49% \n",
      "pytorch-1.12.1       | 80.7 MB   | #####1     |  51% \n",
      "pytorch-1.12.1       | 80.7 MB   | #####3     |  53% \n",
      "pytorch-1.12.1       | 80.7 MB   | #####4     |  55% \n",
      "pytorch-1.12.1       | 80.7 MB   | #####6     |  57% \n",
      "pytorch-1.12.1       | 80.7 MB   | #####8     |  59% \n",
      "pytorch-1.12.1       | 80.7 MB   | ######     |  61% \n",
      "pytorch-1.12.1       | 80.7 MB   | ######2    |  62% \n",
      "pytorch-1.12.1       | 80.7 MB   | ######4    |  65% \n",
      "pytorch-1.12.1       | 80.7 MB   | ######6    |  66% \n",
      "pytorch-1.12.1       | 80.7 MB   | ######8    |  68% \n",
      "pytorch-1.12.1       | 80.7 MB   | #######    |  70% \n",
      "pytorch-1.12.1       | 80.7 MB   | #######2   |  73% \n",
      "pytorch-1.12.1       | 80.7 MB   | #######4   |  75% \n",
      "pytorch-1.12.1       | 80.7 MB   | #######6   |  77% \n",
      "pytorch-1.12.1       | 80.7 MB   | #######8   |  79% \n",
      "pytorch-1.12.1       | 80.7 MB   | ########   |  81% \n",
      "pytorch-1.12.1       | 80.7 MB   | ########2  |  83% \n",
      "pytorch-1.12.1       | 80.7 MB   | ########5  |  85% \n",
      "pytorch-1.12.1       | 80.7 MB   | ########7  |  87% \n",
      "pytorch-1.12.1       | 80.7 MB   | ########9  |  89% \n",
      "pytorch-1.12.1       | 80.7 MB   | #########1 |  91% \n",
      "pytorch-1.12.1       | 80.7 MB   | #########3 |  93% \n",
      "pytorch-1.12.1       | 80.7 MB   | #########5 |  95% \n",
      "pytorch-1.12.1       | 80.7 MB   | #########7 |  97% \n",
      "pytorch-1.12.1       | 80.7 MB   | #########9 |  99% \n",
      "pytorch-1.12.1       | 80.7 MB   | ########## | 100% \n",
      "\n",
      "ninja-base-1.10.2    | 255 KB    |            |   0% \n",
      "ninja-base-1.10.2    | 255 KB    | ########## | 100% \n",
      "ninja-base-1.10.2    | 255 KB    | ########## | 100% \n",
      "\n",
      "future-0.18.2        | 672 KB    |            |   0% \n",
      "future-0.18.2        | 672 KB    | ########## | 100% \n",
      "future-0.18.2        | 672 KB    | ########## | 100% \n",
      "\n",
      "ninja-1.10.2         | 14 KB     |            |   0% \n",
      "ninja-1.10.2         | 14 KB     | ########## | 100% \n",
      "\n",
      "libuv-1.40.0         | 255 KB    |            |   0% \n",
      "libuv-1.40.0         | 255 KB    | ########## | 100% \n",
      "libuv-1.40.0         | 255 KB    | ########## | 100% \n",
      "Preparing transaction: ...working... done\n",
      "Verifying transaction: ...working... done\n",
      "Executing transaction: ...working... done\n",
      "\n",
      "Note: you may need to restart the kernel to use updated packages.\n"
     ]
    },
    {
     "name": "stderr",
     "output_type": "stream",
     "text": [
      "\n",
      "\n",
      "==> WARNING: A newer version of conda exists. <==\n",
      "  current version: 4.12.0\n",
      "  latest version: 23.1.0\n",
      "\n",
      "Please update conda by running\n",
      "\n",
      "    $ conda update -n base -c defaults conda\n",
      "\n",
      "\n"
     ]
    }
   ],
   "source": [
    "conda install pytorch"
   ]
  },
  {
   "cell_type": "code",
   "execution_count": 1,
   "id": "5e825345-22e0-4716-8d95-a7759aca619b",
   "metadata": {},
   "outputs": [
    {
     "ename": "ModuleNotFoundError",
     "evalue": "No module named 'torch'",
     "output_type": "error",
     "traceback": [
      "\u001b[1;31m---------------------------------------------------------------------------\u001b[0m",
      "\u001b[1;31mModuleNotFoundError\u001b[0m                       Traceback (most recent call last)",
      "Cell \u001b[1;32mIn[1], line 1\u001b[0m\n\u001b[1;32m----> 1\u001b[0m \u001b[38;5;28;01mimport\u001b[39;00m \u001b[38;5;21;01mtorch\u001b[39;00m\n\u001b[0;32m      2\u001b[0m \u001b[38;5;28;01mif\u001b[39;00m torch\u001b[38;5;241m.\u001b[39mbackends\u001b[38;5;241m.\u001b[39mmps\u001b[38;5;241m.\u001b[39mis_available():\n\u001b[0;32m      3\u001b[0m     mps_device \u001b[38;5;241m=\u001b[39m torch\u001b[38;5;241m.\u001b[39mdevice(\u001b[38;5;124m\"\u001b[39m\u001b[38;5;124mmps\u001b[39m\u001b[38;5;124m\"\u001b[39m)\n",
      "\u001b[1;31mModuleNotFoundError\u001b[0m: No module named 'torch'"
     ]
    }
   ],
   "source": [
    "import torch\n",
    "if torch.backends.mps.is_available():\n",
    "    mps_device = torch.device(\"mps\")\n",
    "    x = torch.ones(1, device=mps_device)\n",
    "    print (x)\n",
    "else:\n",
    "    print (\"MPS device not found.\")"
   ]
  },
  {
   "cell_type": "code",
   "execution_count": 1,
   "id": "95e05d36-a44a-493a-bc53-4659b446d63b",
   "metadata": {},
   "outputs": [
    {
     "name": "stderr",
     "output_type": "stream",
     "text": [
      "C:\\Users\\Erick\\anaconda3\\envs\\fakenews\\lib\\site-packages\\tqdm\\auto.py:22: TqdmWarning: IProgress not found. Please update jupyter and ipywidgets. See https://ipywidgets.readthedocs.io/en/stable/user_install.html\n",
      "  from .autonotebook import tqdm as notebook_tqdm\n"
     ]
    }
   ],
   "source": [
    "from datasets import load_dataset, load_from_disk"
   ]
  },
  {
   "cell_type": "code",
   "execution_count": 2,
   "id": "2ce7960c-7be8-4dbc-a376-e28df6a5a5f5",
   "metadata": {},
   "outputs": [
    {
     "name": "stderr",
     "output_type": "stream",
     "text": [
      "Found cached dataset liar (C:/Users/Erick/.cache/huggingface/datasets/liar/default/1.0.0/479463e757b7991eed50ffa7504d7788d6218631a484442e2098dabbf3b44514)\n",
      "100%|███████████████████████████████████████████████████████████████████████████████████| 3/3 [00:00<00:00, 251.43it/s]\n"
     ]
    }
   ],
   "source": [
    "dataset = load_dataset(\"liar\")"
   ]
  },
  {
   "cell_type": "code",
   "execution_count": 3,
   "id": "4fca8042-0852-4e1b-8628-d268babfc48d",
   "metadata": {},
   "outputs": [
    {
     "name": "stderr",
     "output_type": "stream",
     "text": [
      "Using custom data configuration default-16166e5dc31fa63c\n",
      "Found cached dataset csv (C:/Users/Erick/.cache/huggingface/datasets/csv/default-16166e5dc31fa63c/0.0.0/6b34fb8fcf56f7c8ba51dc895bfa2bfbe43546f190a60fcf74bb5e8afdcc2317)\n",
      "100%|███████████████████████████████████████████████████████████████████████████████████| 1/1 [00:00<00:00, 125.26it/s]\n"
     ]
    }
   ],
   "source": [
    "fake_csv = load_dataset(\"csv\", data_files=\"news.csv\")"
   ]
  },
  {
   "cell_type": "code",
   "execution_count": 4,
   "id": "37ac3dec-55d3-4002-a269-49345e2a7e69",
   "metadata": {},
   "outputs": [
    {
     "data": {
      "text/plain": [
       "DatasetDict({\n",
       "    train: Dataset({\n",
       "        features: ['Unnamed: 0', 'title', 'text', 'label'],\n",
       "        num_rows: 6335\n",
       "    })\n",
       "})"
      ]
     },
     "execution_count": 4,
     "metadata": {},
     "output_type": "execute_result"
    }
   ],
   "source": [
    "fake_csv"
   ]
  },
  {
   "cell_type": "code",
   "execution_count": 5,
   "id": "9efbad4f-e784-4996-abc7-5621c43294b1",
   "metadata": {},
   "outputs": [],
   "source": [
    "fake_csv_split = fake_csv[\"train\"].train_test_split(test_size=0.1)"
   ]
  },
  {
   "cell_type": "code",
   "execution_count": 6,
   "id": "a3ec57da-d63c-4564-82e7-d385a6a3cf47",
   "metadata": {},
   "outputs": [
    {
     "data": {
      "text/plain": [
       "DatasetDict({\n",
       "    train: Dataset({\n",
       "        features: ['Unnamed: 0', 'title', 'text', 'label'],\n",
       "        num_rows: 5701\n",
       "    })\n",
       "    test: Dataset({\n",
       "        features: ['Unnamed: 0', 'title', 'text', 'label'],\n",
       "        num_rows: 634\n",
       "    })\n",
       "})"
      ]
     },
     "execution_count": 6,
     "metadata": {},
     "output_type": "execute_result"
    }
   ],
   "source": [
    "fake_csv_split"
   ]
  },
  {
   "cell_type": "code",
   "execution_count": 7,
   "id": "e9617324-3499-4d6a-9919-00260c78132d",
   "metadata": {},
   "outputs": [],
   "source": [
    "from transformers import AutoTokenizer\n",
    "\n",
    "# Load DistilBERT tokenizer and tokenize (encode) the texts\n",
    "tokenizer = AutoTokenizer.from_pretrained(\"distilbert-base-uncased\")"
   ]
  },
  {
   "cell_type": "code",
   "execution_count": 8,
   "id": "13c914c4-1f3a-46cc-8acf-462cc9bc08f1",
   "metadata": {},
   "outputs": [
    {
     "name": "stderr",
     "output_type": "stream",
     "text": [
      "100%|████████████████████████████████████████████████████████████████████████████| 5701/5701 [00:01<00:00, 5433.81ex/s]\n",
      "100%|██████████████████████████████████████████████████████████████████████████████| 634/634 [00:00<00:00, 6832.71ex/s]\n"
     ]
    }
   ],
   "source": [
    "fake_csv_split = fake_csv_split.map(lambda x: {\"label\": 1 if x[\"label\"] == \"FAKE\" else 0})"
   ]
  },
  {
   "cell_type": "code",
   "execution_count": 9,
   "id": "2a8a2045-3739-4adf-9a4c-a7af7d6ef3d6",
   "metadata": {},
   "outputs": [],
   "source": [
    "from transformers import AutoTokenizer\n",
    "def tokenize(batch):\n",
    "    from transformers import AutoTokenizer\n",
    "    tokenizer = AutoTokenizer.from_pretrained(\"distilbert-base-uncased\")\n",
    "    tokenized_batch = tokenizer(batch['text'], padding=True, truncation=True, max_length=128)\n",
    "    return tokenized_batch"
   ]
  },
  {
   "cell_type": "code",
   "execution_count": 10,
   "id": "ca97a6f9-11ca-4c3e-b101-7f2c64d9fdf5",
   "metadata": {},
   "outputs": [
    {
     "data": {
      "text/plain": [
       "DatasetDict({\n",
       "    train: Dataset({\n",
       "        features: ['label', 'input_ids', 'attention_mask'],\n",
       "        num_rows: 5701\n",
       "    })\n",
       "    test: Dataset({\n",
       "        features: ['label', 'input_ids', 'attention_mask'],\n",
       "        num_rows: 634\n",
       "    })\n",
       "})"
      ]
     },
     "execution_count": 10,
     "metadata": {},
     "output_type": "execute_result"
    }
   ],
   "source": [
    "fake_csv_split.map(tokenize, remove_columns=['Unnamed: 0', 'title', 'text'], batched=True, num_proc=4)"
   ]
  },
  {
   "cell_type": "code",
   "execution_count": 11,
   "id": "652820ed-8fa6-4f3a-9163-8f0002880eb3",
   "metadata": {
    "tags": []
   },
   "outputs": [
    {
     "name": "stderr",
     "output_type": "stream",
     "text": [
      "Loading cached processed dataset at C:\\Users\\Erick\\.cache\\huggingface\\datasets\\csv\\default-16166e5dc31fa63c\\0.0.0\\6b34fb8fcf56f7c8ba51dc895bfa2bfbe43546f190a60fcf74bb5e8afdcc2317\\cache-50286481a9f1f581.arrow\n",
      "Loading cached processed dataset at C:\\Users\\Erick\\.cache\\huggingface\\datasets\\csv\\default-16166e5dc31fa63c\\0.0.0\\6b34fb8fcf56f7c8ba51dc895bfa2bfbe43546f190a60fcf74bb5e8afdcc2317\\cache-b1870c906afc97a0.arrow\n",
      "Loading cached processed dataset at C:\\Users\\Erick\\.cache\\huggingface\\datasets\\csv\\default-16166e5dc31fa63c\\0.0.0\\6b34fb8fcf56f7c8ba51dc895bfa2bfbe43546f190a60fcf74bb5e8afdcc2317\\cache-a4dc9cc34e37af29.arrow\n",
      "Loading cached processed dataset at C:\\Users\\Erick\\.cache\\huggingface\\datasets\\csv\\default-16166e5dc31fa63c\\0.0.0\\6b34fb8fcf56f7c8ba51dc895bfa2bfbe43546f190a60fcf74bb5e8afdcc2317\\cache-0e9cd019af4684c8.arrow\n",
      "Loading cached processed dataset at C:\\Users\\Erick\\.cache\\huggingface\\datasets\\csv\\default-16166e5dc31fa63c\\0.0.0\\6b34fb8fcf56f7c8ba51dc895bfa2bfbe43546f190a60fcf74bb5e8afdcc2317\\cache-c629d449fbd1d967.arrow\n",
      "Loading cached processed dataset at C:\\Users\\Erick\\.cache\\huggingface\\datasets\\csv\\default-16166e5dc31fa63c\\0.0.0\\6b34fb8fcf56f7c8ba51dc895bfa2bfbe43546f190a60fcf74bb5e8afdcc2317\\cache-8668fb5d1cc561c9.arrow\n",
      "Loading cached processed dataset at C:\\Users\\Erick\\.cache\\huggingface\\datasets\\csv\\default-16166e5dc31fa63c\\0.0.0\\6b34fb8fcf56f7c8ba51dc895bfa2bfbe43546f190a60fcf74bb5e8afdcc2317\\cache-194968e0a899c90e.arrow\n",
      "Loading cached processed dataset at C:\\Users\\Erick\\.cache\\huggingface\\datasets\\csv\\default-16166e5dc31fa63c\\0.0.0\\6b34fb8fcf56f7c8ba51dc895bfa2bfbe43546f190a60fcf74bb5e8afdcc2317\\cache-b159a183d0a0102d.arrow\n"
     ]
    },
    {
     "name": "stdout",
     "output_type": "stream",
     "text": [
      "['label', 'input_ids', 'attention_mask']\n"
     ]
    }
   ],
   "source": [
    "# Tokenize and encode the dataset\n",
    "\n",
    "\n",
    "dataset_enc = fake_csv_split.map(tokenize, remove_columns=['Unnamed: 0', 'title', 'text'], batched=True, num_proc=4)\n",
    "\n",
    "# Set dataset format for PyTorch\n",
    "dataset_enc.set_format('torch', columns=['input_ids', 'attention_mask', 'label'])\n",
    "\n",
    "# Check the output\n",
    "print(dataset_enc[\"train\"].column_names)"
   ]
  },
  {
   "cell_type": "code",
   "execution_count": 12,
   "id": "60b4923d-b09c-4e47-b96d-26fc469f0992",
   "metadata": {},
   "outputs": [],
   "source": [
    "from transformers import DataCollatorWithPadding\n",
    "from torch.utils.data import DataLoader\n",
    "\n",
    "# Instantiate a data collator with dynamic padding\n",
    "data_collator = DataCollatorWithPadding(tokenizer=tokenizer)"
   ]
  },
  {
   "cell_type": "code",
   "execution_count": 13,
   "id": "0b8ed82c-301b-4247-bb71-c657808952b4",
   "metadata": {},
   "outputs": [
    {
     "name": "stderr",
     "output_type": "stream",
     "text": [
      "Downloading (…)\"pytorch_model.bin\";: 100%|██████████████████████████████████████████| 268M/268M [00:16<00:00, 16.0MB/s]\n",
      "C:\\Users\\Erick\\anaconda3\\envs\\fakenews\\lib\\site-packages\\huggingface_hub-0.12.0-py3.8.egg\\huggingface_hub\\file_download.py:129: UserWarning: `huggingface_hub` cache-system uses symlinks by default to efficiently store duplicated files but your machine does not support them in C:\\Users\\Erick\\.cache\\huggingface\\hub. Caching files will still work but in a degraded version that might require more space on your disk. This warning can be disabled by setting the `HF_HUB_DISABLE_SYMLINKS_WARNING` environment variable. For more details, see https://huggingface.co/docs/huggingface_hub/how-to-cache#limitations.\n",
      "To support symlinks on Windows, you either need to activate Developer Mode or to run Python as an administrator. In order to see activate developer mode, see this article: https://docs.microsoft.com/en-us/windows/apps/get-started/enable-your-device-for-development\n",
      "Some weights of the model checkpoint at distilbert-base-uncased were not used when initializing DistilBertForSequenceClassification: ['vocab_transform.bias', 'vocab_layer_norm.bias', 'vocab_projector.weight', 'vocab_projector.bias', 'vocab_transform.weight', 'vocab_layer_norm.weight']\n",
      "- This IS expected if you are initializing DistilBertForSequenceClassification from the checkpoint of a model trained on another task or with another architecture (e.g. initializing a BertForSequenceClassification model from a BertForPreTraining model).\n",
      "- This IS NOT expected if you are initializing DistilBertForSequenceClassification from the checkpoint of a model that you expect to be exactly identical (initializing a BertForSequenceClassification model from a BertForSequenceClassification model).\n",
      "Some weights of DistilBertForSequenceClassification were not initialized from the model checkpoint at distilbert-base-uncased and are newly initialized: ['classifier.weight', 'pre_classifier.bias', 'classifier.bias', 'pre_classifier.weight']\n",
      "You should probably TRAIN this model on a down-stream task to be able to use it for predictions and inference.\n"
     ]
    }
   ],
   "source": [
    "from transformers import AutoTokenizer, AutoModelForSequenceClassification\n",
    "from transformers import AutoModelForSequenceClassification\n",
    "\n",
    "# Load model from checkpoint\\n\",\n",
    "model = AutoModelForSequenceClassification.from_pretrained(\"distilbert-base-uncased\",\n",
    "                                                           num_labels=2)"
   ]
  },
  {
   "cell_type": "code",
   "execution_count": 14,
   "id": "f9f9884d-77da-4b23-8c79-eb6820adc030",
   "metadata": {
    "tags": []
   },
   "outputs": [
    {
     "ename": "RuntimeError",
     "evalue": "PyTorch is not linked with support for mps devices",
     "output_type": "error",
     "traceback": [
      "\u001b[1;31m---------------------------------------------------------------------------\u001b[0m",
      "\u001b[1;31mRuntimeError\u001b[0m                              Traceback (most recent call last)",
      "Cell \u001b[1;32mIn[14], line 1\u001b[0m\n\u001b[1;32m----> 1\u001b[0m \u001b[43mmodel\u001b[49m\u001b[38;5;241;43m.\u001b[39;49m\u001b[43mto\u001b[49m\u001b[43m(\u001b[49m\u001b[38;5;124;43m\"\u001b[39;49m\u001b[38;5;124;43mmps\u001b[39;49m\u001b[38;5;124;43m\"\u001b[39;49m\u001b[43m)\u001b[49m\n",
      "File \u001b[1;32m~\\anaconda3\\envs\\fakenews\\lib\\site-packages\\transformers\\modeling_utils.py:1749\u001b[0m, in \u001b[0;36mPreTrainedModel.to\u001b[1;34m(self, *args, **kwargs)\u001b[0m\n\u001b[0;32m   1744\u001b[0m     \u001b[38;5;28;01mraise\u001b[39;00m \u001b[38;5;167;01mValueError\u001b[39;00m(\n\u001b[0;32m   1745\u001b[0m         \u001b[38;5;124m\"\u001b[39m\u001b[38;5;124m`.to` is not supported for `8-bit` models. Please use the model as it is, since the\u001b[39m\u001b[38;5;124m\"\u001b[39m\n\u001b[0;32m   1746\u001b[0m         \u001b[38;5;124m\"\u001b[39m\u001b[38;5;124m model has already been set to the correct devices and casted to the correct `dtype`.\u001b[39m\u001b[38;5;124m\"\u001b[39m\n\u001b[0;32m   1747\u001b[0m     )\n\u001b[0;32m   1748\u001b[0m \u001b[38;5;28;01melse\u001b[39;00m:\n\u001b[1;32m-> 1749\u001b[0m     \u001b[38;5;28;01mreturn\u001b[39;00m \u001b[38;5;28msuper\u001b[39m()\u001b[38;5;241m.\u001b[39mto(\u001b[38;5;241m*\u001b[39margs, \u001b[38;5;241m*\u001b[39m\u001b[38;5;241m*\u001b[39mkwargs)\n",
      "File \u001b[1;32m~\\anaconda3\\envs\\fakenews\\lib\\site-packages\\torch\\nn\\modules\\module.py:927\u001b[0m, in \u001b[0;36mModule.to\u001b[1;34m(self, *args, **kwargs)\u001b[0m\n\u001b[0;32m    923\u001b[0m         \u001b[38;5;28;01mreturn\u001b[39;00m t\u001b[38;5;241m.\u001b[39mto(device, dtype \u001b[38;5;28;01mif\u001b[39;00m t\u001b[38;5;241m.\u001b[39mis_floating_point() \u001b[38;5;129;01mor\u001b[39;00m t\u001b[38;5;241m.\u001b[39mis_complex() \u001b[38;5;28;01melse\u001b[39;00m \u001b[38;5;28;01mNone\u001b[39;00m,\n\u001b[0;32m    924\u001b[0m                     non_blocking, memory_format\u001b[38;5;241m=\u001b[39mconvert_to_format)\n\u001b[0;32m    925\u001b[0m     \u001b[38;5;28;01mreturn\u001b[39;00m t\u001b[38;5;241m.\u001b[39mto(device, dtype \u001b[38;5;28;01mif\u001b[39;00m t\u001b[38;5;241m.\u001b[39mis_floating_point() \u001b[38;5;129;01mor\u001b[39;00m t\u001b[38;5;241m.\u001b[39mis_complex() \u001b[38;5;28;01melse\u001b[39;00m \u001b[38;5;28;01mNone\u001b[39;00m, non_blocking)\n\u001b[1;32m--> 927\u001b[0m \u001b[38;5;28;01mreturn\u001b[39;00m \u001b[38;5;28;43mself\u001b[39;49m\u001b[38;5;241;43m.\u001b[39;49m\u001b[43m_apply\u001b[49m\u001b[43m(\u001b[49m\u001b[43mconvert\u001b[49m\u001b[43m)\u001b[49m\n",
      "File \u001b[1;32m~\\anaconda3\\envs\\fakenews\\lib\\site-packages\\torch\\nn\\modules\\module.py:579\u001b[0m, in \u001b[0;36mModule._apply\u001b[1;34m(self, fn)\u001b[0m\n\u001b[0;32m    577\u001b[0m \u001b[38;5;28;01mdef\u001b[39;00m \u001b[38;5;21m_apply\u001b[39m(\u001b[38;5;28mself\u001b[39m, fn):\n\u001b[0;32m    578\u001b[0m     \u001b[38;5;28;01mfor\u001b[39;00m module \u001b[38;5;129;01min\u001b[39;00m \u001b[38;5;28mself\u001b[39m\u001b[38;5;241m.\u001b[39mchildren():\n\u001b[1;32m--> 579\u001b[0m         \u001b[43mmodule\u001b[49m\u001b[38;5;241;43m.\u001b[39;49m\u001b[43m_apply\u001b[49m\u001b[43m(\u001b[49m\u001b[43mfn\u001b[49m\u001b[43m)\u001b[49m\n\u001b[0;32m    581\u001b[0m     \u001b[38;5;28;01mdef\u001b[39;00m \u001b[38;5;21mcompute_should_use_set_data\u001b[39m(tensor, tensor_applied):\n\u001b[0;32m    582\u001b[0m         \u001b[38;5;28;01mif\u001b[39;00m torch\u001b[38;5;241m.\u001b[39m_has_compatible_shallow_copy_type(tensor, tensor_applied):\n\u001b[0;32m    583\u001b[0m             \u001b[38;5;66;03m# If the new tensor has compatible tensor type as the existing tensor,\u001b[39;00m\n\u001b[0;32m    584\u001b[0m             \u001b[38;5;66;03m# the current behavior is to change the tensor in-place using `.data =`,\u001b[39;00m\n\u001b[1;32m   (...)\u001b[0m\n\u001b[0;32m    589\u001b[0m             \u001b[38;5;66;03m# global flag to let the user control whether they want the future\u001b[39;00m\n\u001b[0;32m    590\u001b[0m             \u001b[38;5;66;03m# behavior of overwriting the existing tensor or not.\u001b[39;00m\n",
      "File \u001b[1;32m~\\anaconda3\\envs\\fakenews\\lib\\site-packages\\torch\\nn\\modules\\module.py:579\u001b[0m, in \u001b[0;36mModule._apply\u001b[1;34m(self, fn)\u001b[0m\n\u001b[0;32m    577\u001b[0m \u001b[38;5;28;01mdef\u001b[39;00m \u001b[38;5;21m_apply\u001b[39m(\u001b[38;5;28mself\u001b[39m, fn):\n\u001b[0;32m    578\u001b[0m     \u001b[38;5;28;01mfor\u001b[39;00m module \u001b[38;5;129;01min\u001b[39;00m \u001b[38;5;28mself\u001b[39m\u001b[38;5;241m.\u001b[39mchildren():\n\u001b[1;32m--> 579\u001b[0m         \u001b[43mmodule\u001b[49m\u001b[38;5;241;43m.\u001b[39;49m\u001b[43m_apply\u001b[49m\u001b[43m(\u001b[49m\u001b[43mfn\u001b[49m\u001b[43m)\u001b[49m\n\u001b[0;32m    581\u001b[0m     \u001b[38;5;28;01mdef\u001b[39;00m \u001b[38;5;21mcompute_should_use_set_data\u001b[39m(tensor, tensor_applied):\n\u001b[0;32m    582\u001b[0m         \u001b[38;5;28;01mif\u001b[39;00m torch\u001b[38;5;241m.\u001b[39m_has_compatible_shallow_copy_type(tensor, tensor_applied):\n\u001b[0;32m    583\u001b[0m             \u001b[38;5;66;03m# If the new tensor has compatible tensor type as the existing tensor,\u001b[39;00m\n\u001b[0;32m    584\u001b[0m             \u001b[38;5;66;03m# the current behavior is to change the tensor in-place using `.data =`,\u001b[39;00m\n\u001b[1;32m   (...)\u001b[0m\n\u001b[0;32m    589\u001b[0m             \u001b[38;5;66;03m# global flag to let the user control whether they want the future\u001b[39;00m\n\u001b[0;32m    590\u001b[0m             \u001b[38;5;66;03m# behavior of overwriting the existing tensor or not.\u001b[39;00m\n",
      "File \u001b[1;32m~\\anaconda3\\envs\\fakenews\\lib\\site-packages\\torch\\nn\\modules\\module.py:579\u001b[0m, in \u001b[0;36mModule._apply\u001b[1;34m(self, fn)\u001b[0m\n\u001b[0;32m    577\u001b[0m \u001b[38;5;28;01mdef\u001b[39;00m \u001b[38;5;21m_apply\u001b[39m(\u001b[38;5;28mself\u001b[39m, fn):\n\u001b[0;32m    578\u001b[0m     \u001b[38;5;28;01mfor\u001b[39;00m module \u001b[38;5;129;01min\u001b[39;00m \u001b[38;5;28mself\u001b[39m\u001b[38;5;241m.\u001b[39mchildren():\n\u001b[1;32m--> 579\u001b[0m         \u001b[43mmodule\u001b[49m\u001b[38;5;241;43m.\u001b[39;49m\u001b[43m_apply\u001b[49m\u001b[43m(\u001b[49m\u001b[43mfn\u001b[49m\u001b[43m)\u001b[49m\n\u001b[0;32m    581\u001b[0m     \u001b[38;5;28;01mdef\u001b[39;00m \u001b[38;5;21mcompute_should_use_set_data\u001b[39m(tensor, tensor_applied):\n\u001b[0;32m    582\u001b[0m         \u001b[38;5;28;01mif\u001b[39;00m torch\u001b[38;5;241m.\u001b[39m_has_compatible_shallow_copy_type(tensor, tensor_applied):\n\u001b[0;32m    583\u001b[0m             \u001b[38;5;66;03m# If the new tensor has compatible tensor type as the existing tensor,\u001b[39;00m\n\u001b[0;32m    584\u001b[0m             \u001b[38;5;66;03m# the current behavior is to change the tensor in-place using `.data =`,\u001b[39;00m\n\u001b[1;32m   (...)\u001b[0m\n\u001b[0;32m    589\u001b[0m             \u001b[38;5;66;03m# global flag to let the user control whether they want the future\u001b[39;00m\n\u001b[0;32m    590\u001b[0m             \u001b[38;5;66;03m# behavior of overwriting the existing tensor or not.\u001b[39;00m\n",
      "File \u001b[1;32m~\\anaconda3\\envs\\fakenews\\lib\\site-packages\\torch\\nn\\modules\\module.py:602\u001b[0m, in \u001b[0;36mModule._apply\u001b[1;34m(self, fn)\u001b[0m\n\u001b[0;32m    598\u001b[0m \u001b[38;5;66;03m# Tensors stored in modules are graph leaves, and we don't want to\u001b[39;00m\n\u001b[0;32m    599\u001b[0m \u001b[38;5;66;03m# track autograd history of `param_applied`, so we have to use\u001b[39;00m\n\u001b[0;32m    600\u001b[0m \u001b[38;5;66;03m# `with torch.no_grad():`\u001b[39;00m\n\u001b[0;32m    601\u001b[0m \u001b[38;5;28;01mwith\u001b[39;00m torch\u001b[38;5;241m.\u001b[39mno_grad():\n\u001b[1;32m--> 602\u001b[0m     param_applied \u001b[38;5;241m=\u001b[39m \u001b[43mfn\u001b[49m\u001b[43m(\u001b[49m\u001b[43mparam\u001b[49m\u001b[43m)\u001b[49m\n\u001b[0;32m    603\u001b[0m should_use_set_data \u001b[38;5;241m=\u001b[39m compute_should_use_set_data(param, param_applied)\n\u001b[0;32m    604\u001b[0m \u001b[38;5;28;01mif\u001b[39;00m should_use_set_data:\n",
      "File \u001b[1;32m~\\anaconda3\\envs\\fakenews\\lib\\site-packages\\torch\\nn\\modules\\module.py:925\u001b[0m, in \u001b[0;36mModule.to.<locals>.convert\u001b[1;34m(t)\u001b[0m\n\u001b[0;32m    922\u001b[0m \u001b[38;5;28;01mif\u001b[39;00m convert_to_format \u001b[38;5;129;01mis\u001b[39;00m \u001b[38;5;129;01mnot\u001b[39;00m \u001b[38;5;28;01mNone\u001b[39;00m \u001b[38;5;129;01mand\u001b[39;00m t\u001b[38;5;241m.\u001b[39mdim() \u001b[38;5;129;01min\u001b[39;00m (\u001b[38;5;241m4\u001b[39m, \u001b[38;5;241m5\u001b[39m):\n\u001b[0;32m    923\u001b[0m     \u001b[38;5;28;01mreturn\u001b[39;00m t\u001b[38;5;241m.\u001b[39mto(device, dtype \u001b[38;5;28;01mif\u001b[39;00m t\u001b[38;5;241m.\u001b[39mis_floating_point() \u001b[38;5;129;01mor\u001b[39;00m t\u001b[38;5;241m.\u001b[39mis_complex() \u001b[38;5;28;01melse\u001b[39;00m \u001b[38;5;28;01mNone\u001b[39;00m,\n\u001b[0;32m    924\u001b[0m                 non_blocking, memory_format\u001b[38;5;241m=\u001b[39mconvert_to_format)\n\u001b[1;32m--> 925\u001b[0m \u001b[38;5;28;01mreturn\u001b[39;00m \u001b[43mt\u001b[49m\u001b[38;5;241;43m.\u001b[39;49m\u001b[43mto\u001b[49m\u001b[43m(\u001b[49m\u001b[43mdevice\u001b[49m\u001b[43m,\u001b[49m\u001b[43m \u001b[49m\u001b[43mdtype\u001b[49m\u001b[43m \u001b[49m\u001b[38;5;28;43;01mif\u001b[39;49;00m\u001b[43m \u001b[49m\u001b[43mt\u001b[49m\u001b[38;5;241;43m.\u001b[39;49m\u001b[43mis_floating_point\u001b[49m\u001b[43m(\u001b[49m\u001b[43m)\u001b[49m\u001b[43m \u001b[49m\u001b[38;5;129;43;01mor\u001b[39;49;00m\u001b[43m \u001b[49m\u001b[43mt\u001b[49m\u001b[38;5;241;43m.\u001b[39;49m\u001b[43mis_complex\u001b[49m\u001b[43m(\u001b[49m\u001b[43m)\u001b[49m\u001b[43m \u001b[49m\u001b[38;5;28;43;01melse\u001b[39;49;00m\u001b[43m \u001b[49m\u001b[38;5;28;43;01mNone\u001b[39;49;00m\u001b[43m,\u001b[49m\u001b[43m \u001b[49m\u001b[43mnon_blocking\u001b[49m\u001b[43m)\u001b[49m\n",
      "\u001b[1;31mRuntimeError\u001b[0m: PyTorch is not linked with support for mps devices"
     ]
    }
   ],
   "source": [
    "model.to(\"mps\")"
   ]
  },
  {
   "cell_type": "code",
   "execution_count": 15,
   "id": "28e624f1-c326-4c1e-9d07-cc2364737595",
   "metadata": {},
   "outputs": [],
   "source": [
    "from transformers import TrainingArguments, Trainer\n",
    "training_args = TrainingArguments(output_dir=\"test_trainer\",  evaluation_strategy=\"epoch\")"
   ]
  },
  {
   "cell_type": "code",
   "execution_count": 16,
   "id": "1b623bd3-6deb-4980-aa13-1551c35e9c7e",
   "metadata": {},
   "outputs": [],
   "source": [
    "import numpy as np\n",
    "import evaluate\n",
    "\n",
    "metric = evaluate.load(\"accuracy\")\n",
    "def compute_metrics(eval_pred):\n",
    "    logits, labels = eval_pred\n",
    "    predictions = np.argmax(logits, axis=-1)\n",
    "    return metric.compute(predictions=predictions, references=labels)"
   ]
  },
  {
   "cell_type": "code",
   "execution_count": 17,
   "id": "343f7b57-a1b1-46ce-ac5f-433494d8a3cd",
   "metadata": {},
   "outputs": [],
   "source": [
    "trainer = Trainer(\n",
    "    model=model,\n",
    "    args=training_args,\n",
    "    train_dataset=dataset_enc[\"train\"],\n",
    "    eval_dataset=dataset_enc[\"test\"],\n",
    "    compute_metrics=compute_metrics,\n",
    ")"
   ]
  },
  {
   "cell_type": "code",
   "execution_count": 2,
   "id": "400a06b1-0c93-48b2-b61f-0d30c9d266da",
   "metadata": {},
   "outputs": [],
   "source": [
    "import json\n",
    "from bs4 import BeautifulSoup\n",
    "import requests\n",
    "import lxml.html as lx\n",
    "import pandas as pd"
   ]
  },
  {
   "cell_type": "code",
   "execution_count": 50,
   "id": "dd217e8d-0dee-43cb-9ab4-f41fe4a4d0fe",
   "metadata": {},
   "outputs": [],
   "source": [
    "url = \"https://www.foxnews.com/politics/ahead-biden-state-union-address-country-dissatisfied-multiple-crises\"\n",
    "response = requests.get(url)"
   ]
  },
  {
   "cell_type": "code",
   "execution_count": 51,
   "id": "6601b329-971c-43d9-af97-2c67ff594d12",
   "metadata": {},
   "outputs": [
    {
     "data": {
      "text/plain": [
       "<bound method Response.raise_for_status of <Response [200]>>"
      ]
     },
     "execution_count": 51,
     "metadata": {},
     "output_type": "execute_result"
    }
   ],
   "source": [
    "response.raise_for_status"
   ]
  },
  {
   "cell_type": "code",
   "execution_count": 52,
   "id": "8b85eedb-89b7-4bc6-98e9-328121ed7e5e",
   "metadata": {},
   "outputs": [
    {
     "data": {
      "text/plain": [
       "<Response [200]>"
      ]
     },
     "execution_count": 52,
     "metadata": {},
     "output_type": "execute_result"
    }
   ],
   "source": [
    "response"
   ]
  },
  {
   "cell_type": "code",
   "execution_count": 53,
   "id": "1ee211fb-39ac-443b-ab3c-36342e8adfa6",
   "metadata": {},
   "outputs": [],
   "source": [
    "text = response.text\n",
    "#text"
   ]
  },
  {
   "cell_type": "code",
   "execution_count": 54,
   "id": "5206e227-10e6-4220-b654-fd4ecb3b74fb",
   "metadata": {},
   "outputs": [
    {
     "data": {
      "text/plain": [
       "'Ahead of Biden State of the Union address, country dissatisfied with state of the union after multiple crises'"
      ]
     },
     "execution_count": 54,
     "metadata": {},
     "output_type": "execute_result"
    }
   ],
   "source": [
    "soup = BeautifulSoup(response.content, \"html.parser\")\n",
    "headline = soup.find_all(class_ = \"headline\")[0]\n",
    "headline = str(headline)\n",
    "headline_clean = headline.replace('<h1 class=\"headline\">',\"\").replace(\"</h1>\",\"\")\n",
    "headline_clean"
   ]
  },
  {
   "cell_type": "code",
   "execution_count": 55,
   "id": "1abbcacf-9eae-4ecc-bf56-3bc163daad92",
   "metadata": {},
   "outputs": [],
   "source": [
    "#text2 = soup.find_all(class_= \"article-body\")\n"
   ]
  },
  {
   "cell_type": "code",
   "execution_count": 56,
   "id": "2d0cdb58-10ab-4549-9622-23a29112a50c",
   "metadata": {},
   "outputs": [
    {
     "data": {
      "text/plain": [
       "<Element html at 0x23e04d3f540>"
      ]
     },
     "execution_count": 56,
     "metadata": {},
     "output_type": "execute_result"
    }
   ],
   "source": [
    "html = lx.fromstring(response.text)\n",
    "html"
   ]
  },
  {
   "cell_type": "code",
   "execution_count": 57,
   "id": "139944a5-3010-4cfa-8ff9-5fb8a442c30a",
   "metadata": {},
   "outputs": [],
   "source": [
    "string = html.xpath('//p')"
   ]
  },
  {
   "cell_type": "code",
   "execution_count": 58,
   "id": "a11dcdc5-1324-4b48-ad62-abed4cbd88a5",
   "metadata": {},
   "outputs": [
    {
     "data": {
      "text/plain": [
       "32"
      ]
     },
     "execution_count": 58,
     "metadata": {},
     "output_type": "execute_result"
    }
   ],
   "source": [
    "len(string)\n"
   ]
  },
  {
   "cell_type": "code",
   "execution_count": 59,
   "id": "347fde32-9ceb-4252-9057-1b2d729f2248",
   "metadata": {},
   "outputs": [],
   "source": [
    "lst  = []   \n",
    "for i in range(0, len(string)):\n",
    "    article_part = html.xpath('//p')[i].text_content()\n",
    "    article_part = str(article_part)\n",
    "    article_part = article_part.replace(\"\\n \",\"\").replace(\"  \", \"\").replace(\"\\'\" , \" \").replace(\"\\xa0\",\"\").replace(\"This material may not be published, broadcast, rewritten, or redistributed. ©2023 FOX News Network, LLC. All rights reserved. Quotes displayed in real-time or delayed by at least 15 minutes. Market data provided by Factset. Powered and implemented by FactSet Digital Solutions.\",\"\").replace(\"©2023 FOX News Network, LLC. All rights reserved. Quotes displayed in real-time or delayed by at least 15 minutes. Market data provided by Factset. Powered and implemented by FactSet Digital Solutions. Legal Statement. Mutual Fund and ETF data provided by Refinitiv Lipper.\",\"\")\n",
    "    lst.append(article_part)           "
   ]
  },
  {
   "cell_type": "code",
   "execution_count": 12,
   "id": "9f16c177-763e-4024-bfcb-5469ac46a13c",
   "metadata": {},
   "outputs": [],
   "source": [
    "#lst"
   ]
  },
  {
   "cell_type": "code",
   "execution_count": 60,
   "id": "58bb6387-4fcd-44ef-bdb1-57400b48ef7a",
   "metadata": {},
   "outputs": [
    {
     "data": {
      "text/plain": [
       "'  Legal Statement. Mutual Fund and ETF data provided by Refinitiv Lipper. Former House Speaker Newt Gingrich joins  Fox & Friends  to discuss President Biden s political future and performance in office ahead of his State of the Union Address.President Biden will have a tough audience among the American people on Tuesday night when he delivers the annual State of the Union address.Speaking from the Capitol, Biden is expected to make the case to the American people in his second State of the Union speech that the country is in a strong and prosperous position now and moving forward.New polling finds that high percentages of the American people feel financially worse off since Biden took office and are unhappy with the direction of the country, highlighting a general pessimism among the population that s been in place for months.President Joe Biden pauses as he listens to a question during a news conference at the White House, March 25, 2021. (AP Photo/Evan Vucci) FOX NEWS POLL: STATE OF THE UNION IS DYSFUNCTION, DISSATISFACTION AND DISAPPROVALOnly 4 in 10 Americans say the state of the union is strong, according to a new Monmouth University poll out Monday. Just 7% call it \"very strong\" while 32% say the country is in a \"somewhat strong\" state. Meanwhile, 32% deem the union \"not too strong\" and 26% say it s \"not at all strong.\"The number of Americans who feel the state of the union is at least somewhat strong has steadily declined over the past five years, from 55% in 2018 to 39% in the latest survey.The Monmouth poll is hardly alone. According to a recent Marist poll, more than 60% of people think the state of the union isn t strong — including 72% of independents.To make matters worse for Biden s speech, Monmouth also found that an overwhelming majority of Americans, 73%, think the country is on the wrong track, compared to just 24% who feel the U.S. is headed in the right direction.A recent NBC News poll similarly found that 71% of Americans say the country is headed in the wrong direction. Dating back to September, NBC News surveys have repeatedly shown each month that no less than 68% of people think the country is on the wrong track — an unprecedented level of sustained pessimism in the poll s 30-year history.73% of voters disapprove of how Democrats are handling inflation. (istock)AS BIDEN TOUTS US ECONOMY, AMERICANS STRUGGLING TO MAKE CAR PAYMENTSLast year, polling consistently found that more than 70% or even 80% of the country saw the U.S. as being on the wrong track and as little as 10% expressing satisfaction with its direction.To add to Biden s uphill climb Tuesday night, a striking 4 in 10 Americans say they ve gotten worse off financially since Biden became president, according to a new ABC News/Washington Post poll. That s the highest amount in the poll s 37-year history.Several polls over the last year have similarly shown a strong plurality or even a majority of Americans saying they re financially worse off under Biden.A likely cause of such economic distress is inflation, which continues to eat away at household income and drive persistent public disapproval in Biden s handling of the economy.President Joe Biden takes part in a virtual meeting during his trip to Jerusalem, on July 14, 2022. (Mandel Ngan/AFP via Getty Images)BIDEN BATTERED BY CRISES SINCE LAST STATE OF THE UNIONThis wave of unfavorable polling comes as Biden s already being battered by a series of domestic and foreign policy crises since declaring the state of the union to be strong during last year s address.Nonetheless, Tuesday night will offer Biden an opportunity to persuade the American people that their pessimism is misplaced. The State of the Union address will also allow the president to make an early pitch for re-election, should he decide to run again in 2024.However, that too may be a tough pitch — even among his own base.Indeed, a striking 62% of Democrats don t want Biden to run for re-election, compared to just 37% who want to see him seek a second term, according to a new Associated Press/NORC Center for Public Affairs Research poll.CLICK HERE TO GET THE FOX NEWS APPThe new survey came one day after the ABC News/Washington Post poll found that by a 58-31% margin, Democrats want their party to nominate someone other than Biden to be their 2024 presidential nominee.The White House did not immediately respond to Fox News Digital s request for comment.Aaron Kliegman is a politics reporter for Fox News Digital.Get the latest updates from the 2024 campaign trail, exclusive interviews and more Fox News politics content.SubscribedYou ve successfully subscribed to this newsletter!  Legal Statement. Mutual Fund and ETF data provided by Refinitiv Lipper. '"
      ]
     },
     "execution_count": 60,
     "metadata": {},
     "output_type": "execute_result"
    }
   ],
   "source": [
    "article_full = \"\".join(lst)\n",
    "article_full"
   ]
  },
  {
   "cell_type": "code",
   "execution_count": 62,
   "id": "59c2c061-12d4-4ce5-80a9-da60a020c021",
   "metadata": {},
   "outputs": [
    {
     "data": {
      "text/plain": [
       "<bound method Response.raise_for_status of <Response [200]>>"
      ]
     },
     "execution_count": 62,
     "metadata": {},
     "output_type": "execute_result"
    }
   ],
   "source": [
    "response = requests.get(\"https://www.foxnews.com/politics\")\n",
    "response.raise_for_status"
   ]
  },
  {
   "cell_type": "code",
   "execution_count": 17,
   "id": "87480ebe-4dbd-4cc9-9d5c-c5f3d8e949aa",
   "metadata": {},
   "outputs": [],
   "source": [
    "#response.text"
   ]
  },
  {
   "cell_type": "code",
   "execution_count": 63,
   "id": "16bfda74-5e45-440a-90e7-e184b56cb8ad",
   "metadata": {},
   "outputs": [],
   "source": [
    "html = lx.fromstring(response.text)\n",
    "lst_links = html.xpath('//h4/a/@href')\n",
    "for i in range(0,len(lst_links)):\n",
    "    if '/politics/' not in  lst_links[i]:\n",
    "        lst_links[i] = ''\n",
    "    else:\n",
    "        continue\n",
    "\n"
   ]
  },
  {
   "cell_type": "code",
   "execution_count": 64,
   "id": "8b77ee4b-ca18-407b-a0b3-12ef6de144e3",
   "metadata": {},
   "outputs": [
    {
     "data": {
      "text/plain": [
       "['/politics/missouri-rep-cori-bush-democrat-marries-campaign-security-guard-reports',\n",
       " '/politics/spending-shock-cbo-debt-projection-stuns-washington',\n",
       " '/politics/rashida-tlaib-squad-linked-committees-pushed-large-sums-anti-israel-activists-consulting-firm',\n",
       " '/politics/paul-ryan-will-skip-rnc-trump-wins-2024-nomination',\n",
       " '/politics/spending-shock-cbo-debt-projection-stuns-washington',\n",
       " '/politics/ny-gov-hochuls-controversial-housing-tax-proposals-have-some-democrats-on-edge-extinction-level-events',\n",
       " '/politics/virginia-fairfax-county-school-board-member-history-controversy-battle-iwo-jima-evil',\n",
       " '/politics/republicans-erupt-energy-dept-reportedly-says-covid-19-likely-came-chinese-lab-need-answers',\n",
       " '/politics/rashida-tlaib-squad-linked-committees-pushed-large-sums-anti-israel-activists-consulting-firm',\n",
       " '/politics/virginia-gov-youngkin-rings-death-knell-ccp-buying-american-land',\n",
       " '/politics/trump-will-have-make-loyalty-pledge-join-rnc-debate-stage-ronna-mcdaniel-says',\n",
       " '/politics/dem-senator-calls-consequences-china-supplies-russia-weapons-fight-ukraine',\n",
       " '/politics/one-year-russian-invasion-condoleezza-rice-warns-against-saying-time-ukrainian-side',\n",
       " '/politics/sullivan-wont-say-whether-us-will-back-ukraine-retaking-crimea',\n",
       " '/politics/dark-money-group-pushing-gas-stove-crackdown-significant-financial-stake-green-energy',\n",
       " '/politics/border-patrol-union-white-house-propagandists-not-telling-full-story-crisis-doesnt-come',\n",
       " '/politics/jill-biden-encourages-safe-sex-condoms-kenya-trip']"
      ]
     },
     "execution_count": 64,
     "metadata": {},
     "output_type": "execute_result"
    }
   ],
   "source": [
    "for j in lst_links[:]:\n",
    "    if j == '':\n",
    "        lst_links.remove(j)\n",
    "lst_links"
   ]
  },
  {
   "cell_type": "code",
   "execution_count": 117,
   "id": "1353d54e-1882-4eba-99de-a128dc6780b5",
   "metadata": {},
   "outputs": [
    {
     "data": {
      "text/plain": [
       "<bound method Response.raise_for_status of <Response [200]>>"
      ]
     },
     "execution_count": 117,
     "metadata": {},
     "output_type": "execute_result"
    }
   ],
   "source": [
    "url = \"https://www.foxnews.com/api/article-search?searchBy=categories&values=fox-news%2Fpolitics&size=1005&from=1005&mediaTags=primary_politics\"\n",
    "response = requests.get(url)\n",
    "response.raise_for_status"
   ]
  },
  {
   "cell_type": "code",
   "execution_count": 118,
   "id": "a1f62cb5-d56e-49cc-be2d-e242639cae37",
   "metadata": {
    "collapsed": true,
    "jupyter": {
     "outputs_hidden": true
    },
    "tags": []
   },
   "outputs": [
    {
     "data": {
      "text/plain": [
       "[{'imageUrl': 'https://a57.foxnews.com/static.foxnews.com/foxnews.com/content/uploads/2021/06/348/196/AP21152532625069.jpg?ve=1&tl=1',\n",
       "  'title': \"Rep. Nancy Mace slams Mary Trump for 'racist AF tweet' about Nikki Haley\",\n",
       "  'description': \"Rep. Nancy Mace, R-S.C., on Wednesday lambasted former President Donald Trump's niece, Mary Trump, for what she described as a racist tweet about 2024 presidential candidate Nikki Haley.\",\n",
       "  'url': '/politics/nancy-mace-slams-mary-trump-racist-tweet-nikki-haley',\n",
       "  'publicationDate': '2023-02-15T15:02:17-05:00',\n",
       "  'lastPublishedDate': '2023-02-15T15:02:17-05:00',\n",
       "  'category': {'name': 'Nikki Haley', 'url': '/category/person/nikki-haley'},\n",
       "  'isBreaking': False,\n",
       "  'isLive': False,\n",
       "  'duration': '',\n",
       "  'authors': [{'name': 'Aaron Kliegman'}]},\n",
       " {'imageUrl': 'https://a57.foxnews.com/static.foxnews.com/foxnews.com/content/uploads/2021/08/348/196/jim-jordan.jpg?ve=1&tl=1',\n",
       "  'title': \"Jordan subpoenas Big Tech CEOs for records on 'collusion' with Biden admin to 'suppress free speech'\",\n",
       "  'description': 'House Judiciary Committee Chairman Jim Jordan subpoenaed the chief executive officers of Google, Amazon, Facebook and more for documents on “collusion” with Big Tech companies.',\n",
       "  'url': '/politics/jordan-subpoenas-big-tech-ceos-records-collusion-biden-admin-suppress-free-speech',\n",
       "  'publicationDate': '2023-02-15T14:42:53-05:00',\n",
       "  'lastPublishedDate': '2023-02-15T14:42:53-05:00',\n",
       "  'category': {'name': 'Jim Jordan', 'url': '/category/person/jim-jordan'},\n",
       "  'isBreaking': False,\n",
       "  'isLive': False,\n",
       "  'duration': '',\n",
       "  'authors': [{'name': 'Brooke Singman'}]},\n",
       " {'imageUrl': 'https://a57.foxnews.com/static.foxnews.com/foxnews.com/content/uploads/2021/10/348/196/pete-buttigieg.png?ve=1&tl=1',\n",
       "  'title': \"Pete Buttigieg blames Trump for Ohio train derailment amid criticism: 'We're constrained'\",\n",
       "  'description': 'Transportation Secretary Pete Buttigieg partially blamed the recent derailment of a train carrying toxic chemicals on the Trump administration reversing a safety rule.',\n",
       "  'url': '/politics/pete-buttigieg-blames-trump-ohio-train-derailment-were-constrained',\n",
       "  'publicationDate': '2023-02-15T14:41:08-05:00',\n",
       "  'lastPublishedDate': '2023-02-15T14:41:08-05:00',\n",
       "  'category': {'name': 'Pete Buttigieg',\n",
       "   'url': '/category/person/pete-buttigieg'},\n",
       "  'isBreaking': False,\n",
       "  'isLive': False,\n",
       "  'duration': '',\n",
       "  'authors': [{'name': 'Thomas Catenacci'}]},\n",
       " {'imageUrl': 'https://a57.foxnews.com/static.foxnews.com/foxnews.com/content/uploads/2022/06/348/196/ALL_CUSTOM_FS_LOCAL_NEWS_GA_GENERAL.png?ve=1&tl=1',\n",
       "  'title': 'Georgia senators advance bill to restrict vaping in public spaces',\n",
       "  'description': \"Senators in Georgia have advanced a bill that will restrict vaping in public spaces. The bill states that vaping will go under Georgia's 2005 Smokefree Air Act.\",\n",
       "  'url': '/politics/georgia-senators-advance-bill-restrict-vaping-public-spaces',\n",
       "  'publicationDate': '2023-02-15T14:31:11-05:00',\n",
       "  'lastPublishedDate': '2023-02-15T14:31:11-05:00',\n",
       "  'category': {'name': 'Georgia',\n",
       "   'url': '/category/us/us-regions/southeast/georgia'},\n",
       "  'isBreaking': False,\n",
       "  'isLive': False,\n",
       "  'duration': '',\n",
       "  'authors': []},\n",
       " {'imageUrl': 'https://a57.foxnews.com/static.foxnews.com/foxnews.com/content/uploads/2020/03/348/196/US-Russia-jets-intercepted3.jpg?ve=1&tl=1',\n",
       "  'title': 'NORAD conducts air defense exercise days after Russian aircraft intercepted over Alaska, objects shot down',\n",
       "  'description': 'The North American Aerospace Defense Command, which intercepted four Russian aircraft on Monday, said Wednesday it is holding a planned “air defense” exercise.',\n",
       "  'url': '/politics/norad-conducts-air-defense-exercise-days-russian-aircraft-intercepted-alaska-objects-shot-down',\n",
       "  'publicationDate': '2023-02-15T14:12:27-05:00',\n",
       "  'lastPublishedDate': '2023-02-15T14:12:27-05:00',\n",
       "  'category': {'name': 'MILITARY', 'url': '/category/us/military'},\n",
       "  'isBreaking': False,\n",
       "  'isLive': False,\n",
       "  'duration': '',\n",
       "  'authors': [{'name': 'Greg Norman'}]},\n",
       " {'imageUrl': 'https://a57.foxnews.com/static.foxnews.com/foxnews.com/content/uploads/2023/02/348/196/GettyImages-1247163443.jpg?ve=1&tl=1',\n",
       "  'title': \"Nikki Haley targets Biden administration during 2024 campaign launch: 'Not leading at all'\",\n",
       "  'description': 'Nikki Haley took aim at President Biden, who she said is \"not leading at all,\" during a 2024 campaign event in South Carolina on Wednesday.',\n",
       "  'url': '/politics/nikki-haley-targets-biden-administration-during-2024-campaign-launch-not-leading',\n",
       "  'publicationDate': '2023-02-15T13:59:42-05:00',\n",
       "  'lastPublishedDate': '2023-02-15T13:59:42-05:00',\n",
       "  'category': {'name': 'Nikki Haley', 'url': '/category/person/nikki-haley'},\n",
       "  'isBreaking': False,\n",
       "  'isLive': False,\n",
       "  'duration': '',\n",
       "  'authors': [{'name': 'Kyle Morris'}]},\n",
       " {'imageUrl': 'https://a57.foxnews.com/static.foxnews.com/foxnews.com/content/uploads/2022/06/348/196/ALL_CUSTOM_FS_LOCAL_NEWS_KY_GENERAL.png?ve=1&tl=1',\n",
       "  'title': 'KY Senate advances bill to track relief funds after tornado aid went to people unaffected by the disaster',\n",
       "  'description': 'The Kentucky Senate is advancing a bill that calls for annual reports to track relief funds. The measure was created after tornado aid went to residents who were not affected.',\n",
       "  'url': '/politics/ky-senate-advances-bill-track-relief-funds-tornado-aid-people-unaffected-disaster',\n",
       "  'publicationDate': '2023-02-15T13:49:34-05:00',\n",
       "  'lastPublishedDate': '2023-02-15T13:49:34-05:00',\n",
       "  'category': {'name': 'Kentucky',\n",
       "   'url': '/category/us/us-regions/southeast/kentucky'},\n",
       "  'isBreaking': False,\n",
       "  'isLive': False,\n",
       "  'duration': '',\n",
       "  'authors': []},\n",
       " {'imageUrl': 'https://a57.foxnews.com/static.foxnews.com/foxnews.com/content/uploads/2023/02/348/196/GettyImages-1189431462.jpg?ve=1&tl=1',\n",
       "  'title': \"Otto Warmbier's mother endorses Nikki Haley for president in heartfelt speech\",\n",
       "  'description': \"Cindy Warmbier, the mother of Otto Warmbier, endorsed former South Carolina Gov. Nikki Haley's 2024 presidential run in a heartfelt speech on Wednesday.\",\n",
       "  'url': '/politics/otto-warmbiers-mother-endorses-nikki-haley-president-heartfelt-speech',\n",
       "  'publicationDate': '2023-02-15T13:48:34-05:00',\n",
       "  'lastPublishedDate': '2023-02-15T13:48:34-05:00',\n",
       "  'category': {'name': 'Nikki Haley', 'url': '/category/person/nikki-haley'},\n",
       "  'isBreaking': False,\n",
       "  'isLive': False,\n",
       "  'duration': '',\n",
       "  'authors': [{'name': 'Anders Hagstrom'}]},\n",
       " {'imageUrl': 'https://a57.foxnews.com/static.foxnews.com/foxnews.com/content/uploads/2021/04/348/196/Gaetz-Ginger-Luckey-GETTY.jpg?ve=1&tl=1',\n",
       "  'title': \"DOJ won't charge Matt Gaetz with crimes in sex trafficking probe\",\n",
       "  'description': 'The Justice Department will not charge Rep. Matt Gaetz, R-Fla., after a yearslong probe into sex trafficking allegations.',\n",
       "  'url': '/politics/doj-wont-charge-matt-gaetz-with-crimes-sex-trafficking-probe',\n",
       "  'publicationDate': '2023-02-15T13:11:27-05:00',\n",
       "  'lastPublishedDate': '2023-02-15T13:11:27-05:00',\n",
       "  'category': {'name': 'Justice Department',\n",
       "   'url': '/category/politics/justice-department'},\n",
       "  'isBreaking': False,\n",
       "  'isLive': False,\n",
       "  'duration': '',\n",
       "  'authors': [{'name': 'Brianna Herlihy'}]},\n",
       " {'imageUrl': 'https://a57.foxnews.com/static.foxnews.com/foxnews.com/content/uploads/2023/01/348/196/mccarthy-Monday.jpg?ve=1&tl=1',\n",
       "  'title': 'House, Senate Republicans battle over possible defense cuts in effort to curb spending',\n",
       "  'description': 'Republicans in the House and Senate have been split over whether or not the defense budget should be on the table as they look for ways to rein in federal spending.',\n",
       "  'url': '/politics/house-senate-republicans-battle-possible-defense-cuts-effort-curb-spending',\n",
       "  'publicationDate': '2023-02-15T13:09:57-05:00',\n",
       "  'lastPublishedDate': '2023-02-15T13:09:57-05:00',\n",
       "  'category': {'name': 'Republicans',\n",
       "   'url': '/category/politics/house-of-representatives/republicans'},\n",
       "  'isBreaking': False,\n",
       "  'isLive': False,\n",
       "  'duration': '',\n",
       "  'authors': [{'name': 'Ronn Blitzer'}]},\n",
       " {'imageUrl': 'https://a57.foxnews.com/cf-images.us-east-1.prod.boltdns.net/v1/static/694940094001/aafd0903-597d-46ea-9a4e-d516b2c94e9c/67415900-9e40-4921-b1a3-3bd24fa390d4/1280x720/match/348/196/image.jpg?ve=1&tl=1',\n",
       "  'title': \"Kayleigh McEnany on 2024: Ron DeSantis should 'get in now'\",\n",
       "  'description': \"'Outnumbered' panelists discuss the possible pool of 2024 Republicans after Nikki Haley officially launched her presidential campaign.\\xa0\",\n",
       "  'url': 'https://www.foxnews.com/video/6320484733112',\n",
       "  'publicationDate': '2023-02-15T18:04:41Z',\n",
       "  'lastPublishedDate': '2023-02-15T18:04:41Z',\n",
       "  'category': {'name': 'VIDEO', 'url': ''},\n",
       "  'isBreaking': False,\n",
       "  'duration': '0:10:31',\n",
       "  'authors': []},\n",
       " {'imageUrl': 'https://a57.foxnews.com/static.foxnews.com/foxnews.com/content/uploads/2022/06/348/196/ALL_CUSTOM_FS_LOCAL_NEWS_NE_GENERAL.png?ve=1&tl=1',\n",
       "  'title': 'Nebraska Department of Agriculture names Shery Vinton as new director, becomes first woman to head the agency',\n",
       "  'description': 'The new director of the Nebraska Department of Agriculture is Sherry Vinton. She is the first woman to head the agency after being appointed by Gov. Jim Pillen.',\n",
       "  'url': '/politics/nebraska-department-agriculture-names-shery-vinton-new-director-becomes-first-woman-head-agency',\n",
       "  'publicationDate': '2023-02-15T12:50:48-05:00',\n",
       "  'lastPublishedDate': '2023-02-15T12:50:48-05:00',\n",
       "  'category': {'name': 'Nebraska',\n",
       "   'url': '/category/us/us-regions/midwest/nebraska'},\n",
       "  'isBreaking': False,\n",
       "  'isLive': False,\n",
       "  'duration': '',\n",
       "  'authors': []},\n",
       " {'imageUrl': 'https://a57.foxnews.com/static.foxnews.com/foxnews.com/content/uploads/2022/07/348/196/Supreme-Court-Justice-Clarence-Thomas.jpg?ve=1&tl=1',\n",
       "  'title': \"Dem compares Clarence Thomas to an 'Uncle Tom' as Georgia Senate approves statue of SCOTUS justice\",\n",
       "  'description': 'The Georgia Senate approved a proposal to install a statue of Supreme Court Justice Clarence Thomas at the Georgia state Capitol, triggering backlash from Democrats.',\n",
       "  'url': '/politics/dem-compares-clarence-thomas-uncle-tom-georgia-senate-approves-statue',\n",
       "  'publicationDate': '2023-02-15T12:49:44-05:00',\n",
       "  'lastPublishedDate': '2023-02-15T12:49:44-05:00',\n",
       "  'category': {'name': 'Supreme Court',\n",
       "   'url': '/category/politics/judiciary/supreme-court'},\n",
       "  'isBreaking': False,\n",
       "  'isLive': False,\n",
       "  'duration': '',\n",
       "  'authors': [{'name': 'Aaron Kliegman'}]},\n",
       " {'imageUrl': 'https://a57.foxnews.com/cf-images.us-east-1.prod.boltdns.net/v1/static/694940094001/5cba212b-56e2-445e-bb3c-17b517718101/8a9def67-2d65-45f4-afda-0903a63946d1/1280x720/match/348/196/image.jpg?ve=1&tl=1',\n",
       "  'title': 'Cindy Warmbier endorses Nikki Haley for president in 2024',\n",
       "  'description': \"Cindy Warmbier, the mother of Otto Warmbier, endorses Nikki Haley's 2024 presidential run\",\n",
       "  'url': 'https://www.foxnews.com/video/6320486593112',\n",
       "  'publicationDate': '2023-02-15T17:45:41Z',\n",
       "  'lastPublishedDate': '2023-02-15T17:45:41Z',\n",
       "  'category': {'name': 'VIDEO', 'url': ''},\n",
       "  'isBreaking': False,\n",
       "  'duration': '0:05:17',\n",
       "  'authors': []},\n",
       " {'imageUrl': 'https://a57.foxnews.com/static.foxnews.com/foxnews.com/content/uploads/2022/06/348/196/ALL_CUSTOM_FS_LOCAL_NEWS_NC_GENERAL.png?ve=1&tl=1',\n",
       "  'title': 'NC bill that requires high school students to pass a computer science class advances in Legislature',\n",
       "  'description': 'A North Carolina House committee has approved legislation that would mandate high schoolers to pass a computer science class starting in fall 2024.',\n",
       "  'url': '/politics/nc-bill-requires-high-school-students-pass-computer-science-class-advances-legislature',\n",
       "  'publicationDate': '2023-02-15T12:44:42-05:00',\n",
       "  'lastPublishedDate': '2023-02-15T12:44:42-05:00',\n",
       "  'category': {'name': 'North Carolina',\n",
       "   'url': '/category/us/us-regions/southeast/north-carolina'},\n",
       "  'isBreaking': False,\n",
       "  'isLive': False,\n",
       "  'duration': '',\n",
       "  'authors': []},\n",
       " {'imageUrl': 'https://a57.foxnews.com/static.foxnews.com/foxnews.com/content/uploads/2023/02/348/196/Tony-evers-wisconsin.jpg?ve=1&tl=1',\n",
       "  'title': \"Wisconsin Gov. Tony Evers' budget proposal will include tax cuts, plan to keep the Brewers in their stadium\",\n",
       "  'description': 'Tony Evers will announce a budget proposal that is expected to include a plan to keep the Brewers in their stadium for 20 more years. It will also address tax cuts for the middle class.',\n",
       "  'url': '/politics/wisconsin-gov-tony-evers-budget-proposal-include-tax-cuts-plan-keep-brewers-stadium',\n",
       "  'publicationDate': '2023-02-15T12:40:55-05:00',\n",
       "  'lastPublishedDate': '2023-02-15T12:40:55-05:00',\n",
       "  'category': {'name': 'Wisconsin',\n",
       "   'url': '/category/us/us-regions/midwest/wisconsin'},\n",
       "  'isBreaking': False,\n",
       "  'isLive': False,\n",
       "  'duration': '',\n",
       "  'authors': []},\n",
       " {'imageUrl': 'https://a57.foxnews.com/cf-images.us-east-1.prod.boltdns.net/v1/static/694940094001/d34e6273-6cc0-4b5c-a011-aa7c3e0d5582/2cf969f4-e7c2-4018-a507-bec48240b3e0/1280x720/match/348/196/image.jpg?ve=1&tl=1',\n",
       "  'title': \"Kellyanne Conway: Nikki Haley 'played Hamlet' about her potential support of Trump in 2024\",\n",
       "  'description': \"Fox News contributor Kellyanne Conway joined 'The Faulkner Focus' to discuss Haley's bid for the White House and what she perceives to be challenges associated with her campaign.\\xa0\",\n",
       "  'url': 'https://www.foxnews.com/video/6320481416112',\n",
       "  'publicationDate': '2023-02-15T17:21:25Z',\n",
       "  'lastPublishedDate': '2023-02-15T17:21:25Z',\n",
       "  'category': {'name': 'VIDEO', 'url': ''},\n",
       "  'isBreaking': False,\n",
       "  'duration': '0:08:41',\n",
       "  'authors': []},\n",
       " {'imageUrl': 'https://a57.foxnews.com/static.foxnews.com/foxnews.com/content/uploads/2022/06/348/196/ALL_CUSTOM_FS_LOCAL_NEWS_NM_GENERAL.png?ve=1&tl=1',\n",
       "  'title': 'NM Senate approves landmark bill that would create recurring funds for conservation projects',\n",
       "  'description': 'The New Mexico Senate has approved a bill described as a landmark conservation measure. The bill would create recurring funding for water and land projects.',\n",
       "  'url': '/politics/nm-senate-approves-landmark-bill-create-recurring-funds-conservation-projects',\n",
       "  'publicationDate': '2023-02-15T12:17:56-05:00',\n",
       "  'lastPublishedDate': '2023-02-15T12:17:56-05:00',\n",
       "  'category': {'name': 'New Mexico',\n",
       "   'url': '/category/us/us-regions/southwest/new-mexico'},\n",
       "  'isBreaking': False,\n",
       "  'isLive': False,\n",
       "  'duration': '',\n",
       "  'authors': []},\n",
       " {'imageUrl': 'https://a57.foxnews.com/static.foxnews.com/foxnews.com/content/uploads/2023/02/348/196/grassley.jpg?ve=1&tl=1',\n",
       "  'title': 'Grassley rips Senate’s sleepy work schedule under Dem leadership: ‘Things need to change’',\n",
       "  'description': \"Sen. Chuck Grassley on Wednesday criticized the Senate's work schedule and said working roughly a half a week each week isn't enough time to manage the government.\",\n",
       "  'url': '/politics/grassley-rips-senates-sleepy-work-schedule-under-dem-leadership-things-need-change',\n",
       "  'publicationDate': '2023-02-15T12:09:09-05:00',\n",
       "  'lastPublishedDate': '2023-02-15T12:09:09-05:00',\n",
       "  'category': {'name': 'Chuck Grassley',\n",
       "   'url': '/category/person/chuck-grassley'},\n",
       "  'isBreaking': False,\n",
       "  'isLive': False,\n",
       "  'duration': '',\n",
       "  'authors': [{'name': 'Peter Kasperowicz'}]},\n",
       " {'imageUrl': 'https://a57.foxnews.com/static.foxnews.com/foxnews.com/content/uploads/2018/09/348/196/offshore-wind-farm.jpg?ve=1&tl=1',\n",
       "  'title': 'Fossil fuel profits are vital for green energy projects Dems routinely tout',\n",
       "  'description': 'Oil and utility companies — which earn the vast majority of their profits from fossil fuel production, generation and sales — have invested billions of dollars in offshore wind.',\n",
       "  'url': '/politics/fossil-fuel-profits-vital-green-energy-projects-dems-routinely-tout',\n",
       "  'publicationDate': '2023-02-15T12:00:09-05:00',\n",
       "  'lastPublishedDate': '2023-02-15T12:00:09-05:00',\n",
       "  'category': {'name': 'Energy',\n",
       "   'url': '/category/science/planet-earth/energy'},\n",
       "  'isBreaking': False,\n",
       "  'isLive': False,\n",
       "  'duration': '',\n",
       "  'authors': [{'name': 'Thomas Catenacci'}]},\n",
       " {'imageUrl': 'https://a57.foxnews.com/static.foxnews.com/foxnews.com/content/uploads/2023/02/348/196/nikki-haley-SC-announcement_AP.jpg?ve=1&tl=1',\n",
       "  'title': 'Nikki Haley leaps into 2024 GOP presidential primary at packed campaign rally',\n",
       "  'description': 'Former South Carolina Gov. Nikki Haley formally kicks off her 2024 Republican presidential campaign, joining former President Donald Trump as the only major GOP contenders in the race',\n",
       "  'url': '/politics/nikki-haley-leaps-2024-gop-presidential-primary-campaign-rally',\n",
       "  'publicationDate': '2023-02-15T11:46:48-05:00',\n",
       "  'lastPublishedDate': '2023-02-15T11:46:48-05:00',\n",
       "  'category': {'name': 'Nikki Haley', 'url': '/category/person/nikki-haley'},\n",
       "  'isBreaking': False,\n",
       "  'isLive': False,\n",
       "  'duration': '',\n",
       "  'authors': [{'name': 'Paul Steinhauser'}, {'name': 'Thomas Phippen'}]},\n",
       " {'imageUrl': 'https://a57.foxnews.com/static.foxnews.com/foxnews.com/content/uploads/2022/12/348/196/GettyImages-1213155435.jpg?ve=1&tl=1',\n",
       "  'title': 'Space Force, Space Command pass the buck on UFOs as US airspace security questions swirl',\n",
       "  'description': 'NORAD and NORTHCOM have been taking the lead on information related to the UFOs, while involvement by U.S. space-focused military agencies is not clear.',\n",
       "  'url': '/politics/space-force-space-command-pass-buck-ufos-us-airspace-security-questions-swirl',\n",
       "  'publicationDate': '2023-02-15T11:27:23-05:00',\n",
       "  'lastPublishedDate': '2023-02-15T11:27:23-05:00',\n",
       "  'category': {'name': 'AIR AND SPACE',\n",
       "   'url': '/category/science/air-and-space'},\n",
       "  'isBreaking': False,\n",
       "  'isLive': False,\n",
       "  'duration': '',\n",
       "  'authors': [{'name': 'Kelly Laco'}]},\n",
       " {'imageUrl': 'https://a57.foxnews.com/static.foxnews.com/foxnews.com/content/uploads/2023/01/348/196/IMG_0502.png?ve=1&tl=1',\n",
       "  'title': 'National Archives apologizes to March for Life visitors, offers personal tour',\n",
       "  'description': 'The National Archives and Records Administration has reached a preliminary agreement with March for Live protesters who say they were told they could not wear clothes with pro-life messages at the National Archives Museum.',\n",
       "  'url': '/politics/national-archives-apologizes-march-for-life-visitors-offers-personal-tour',\n",
       "  'publicationDate': '2023-02-15T11:09:40-05:00',\n",
       "  'lastPublishedDate': '2023-02-15T11:09:40-05:00',\n",
       "  'category': {'name': 'Washington DC', 'url': '/category/us/washington-dc'},\n",
       "  'isBreaking': False,\n",
       "  'isLive': False,\n",
       "  'duration': '',\n",
       "  'authors': [{'name': 'Chris Pandolfo'}]},\n",
       " {'imageUrl': 'https://a57.foxnews.com/static.foxnews.com/foxnews.com/content/uploads/2023/01/348/196/close-gun.jpg?ve=1&tl=1',\n",
       "  'title': 'Iran may have gifted thousands of assault rifles to Ukraine: report',\n",
       "  'description': 'The U.S. may transfer thousands of assault rifles to Ukraine after the U.S. Navy confiscated the weapons and ammunition from Iranian smugglers on their way to Yemen.',\n",
       "  'url': '/politics/iran-may-gifted-thousands-assault-rifles-ukraine-report',\n",
       "  'publicationDate': '2023-02-15T10:50:09-05:00',\n",
       "  'lastPublishedDate': '2023-02-15T10:50:09-05:00',\n",
       "  'category': {'name': 'Ukraine', 'url': '/category/world/conflicts/ukraine'},\n",
       "  'isBreaking': False,\n",
       "  'isLive': False,\n",
       "  'duration': '',\n",
       "  'authors': [{'name': 'Anders Hagstrom'}]},\n",
       " {'imageUrl': 'https://a57.foxnews.com/static.foxnews.com/foxnews.com/content/uploads/2023/02/348/196/Dianne-Feinstein-California-Senator-Not-Running-Re-Election.jpg?ve=1&tl=1',\n",
       "  'title': 'FLASHBACK: Dianne Feinstein reminds Green New Deal kids they didn’t vote for her',\n",
       "  'description': \"California Democrat Dianne Feinstein's confrontation with school children protesters over the Green New Deal resurfaced amid the senator's retirement announcement.\",\n",
       "  'url': '/politics/flashback-dianne-feinstein-reminds-green-new-deal-kids-they-didnt-vote-for-her',\n",
       "  'publicationDate': '2023-02-15T10:45:25-05:00',\n",
       "  'lastPublishedDate': '2023-02-15T10:45:25-05:00',\n",
       "  'category': {'name': 'Politics', 'url': '/category/newsedge/politics'},\n",
       "  'isBreaking': False,\n",
       "  'isLive': False,\n",
       "  'duration': '',\n",
       "  'authors': [{'name': 'Houston Keene'}]},\n",
       " {'imageUrl': 'https://a57.foxnews.com/static.foxnews.com/foxnews.com/content/uploads/2023/02/348/196/phillipines-2.jpg?ve=1&tl=1',\n",
       "  'title': 'State Department vows US will defend Philippines if necessary after China ship blinds crew with military laser',\n",
       "  'description': 'The U.S. State Department said it would defend the Philippines if forces come under attack after a Chinese ship shined a laser at a Filipino vessel in the disputed South China Sea.',\n",
       "  'url': '/politics/state-department-vows-us-will-defend-philippines-necessary-china-ship-blinds-crew-military-laser',\n",
       "  'publicationDate': '2023-02-15T10:30:20-05:00',\n",
       "  'lastPublishedDate': '2023-02-15T10:30:20-05:00',\n",
       "  'category': {'name': 'China', 'url': '/category/world/world-regions/china'},\n",
       "  'isBreaking': False,\n",
       "  'isLive': False,\n",
       "  'duration': '',\n",
       "  'authors': [{'name': 'Danielle Wallace'}]},\n",
       " {'imageUrl': 'https://a57.foxnews.com/cf-images.us-east-1.prod.boltdns.net/v1/static/694940094001/76ee6892-07bd-42a2-a4a8-2bda73ba8d9a/0190e60d-67ba-4ac8-9dd3-11767ffcc976/1280x720/match/348/196/image.jpg?ve=1&tl=1',\n",
       "  'title': 'John Kennedy calls on Biden to address Americans over flying objects: ‘The cow is out of the barn’',\n",
       "  'description': 'Sen. John Kennedy, R-La., urges President Biden to speak to the American people on the four flying objects downed earlier this month and reacts to the transportation disaster in Ohio after a train carrying toxic chemicals derailed.',\n",
       "  'url': 'https://www.foxnews.com/video/6320471380112',\n",
       "  'publicationDate': '2023-02-15T15:21:50Z',\n",
       "  'lastPublishedDate': '2023-02-15T15:21:50Z',\n",
       "  'category': {'name': 'VIDEO', 'url': ''},\n",
       "  'isBreaking': False,\n",
       "  'duration': '0:05:07',\n",
       "  'authors': []},\n",
       " {'imageUrl': 'https://a57.foxnews.com/static.foxnews.com/foxnews.com/content/uploads/2023/01/348/196/Screen-Shot-2023-01-08-at-7.21.16-PM.png?ve=1&tl=1',\n",
       "  'title': 'Texas, GOP states seek preliminary injunction against Biden’s migrant parole program',\n",
       "  'description': \"20 GOP states and a top conservative legal group want an immediate block on President Biden's recent humanitarian program, arguing that it exceeds congressional limits.\",\n",
       "  'url': '/politics/texas-gop-states-seek-preliminary-injunction-against-bidens-migrant-parole-program',\n",
       "  'publicationDate': '2023-02-15T10:00:53-05:00',\n",
       "  'lastPublishedDate': '2023-02-15T10:00:53-05:00',\n",
       "  'category': {'name': 'Joe Biden', 'url': '/category/person/joe-biden'},\n",
       "  'isBreaking': False,\n",
       "  'isLive': False,\n",
       "  'duration': '',\n",
       "  'authors': [{'name': 'Adam Shaw'}]},\n",
       " {'imageUrl': 'https://a57.foxnews.com/static.foxnews.com/foxnews.com/content/uploads/2023/02/348/196/defense-secretary-lloyd-austin-nato.jpg?ve=1&tl=1',\n",
       "  'title': \"No new 'objects' reported in last 48 hours, Pentagon says\",\n",
       "  'description': 'The Pentagon on Wednesday said no more unidentified flying \"objects\" have been detected within U.S. airspace since the fourth such object was shot down on Feb. 12.',\n",
       "  'url': '/politics/no-new-objects-reported-last-48-hours-pentagon-says',\n",
       "  'publicationDate': '2023-02-15T09:37:38-05:00',\n",
       "  'lastPublishedDate': '2023-02-15T09:37:38-05:00',\n",
       "  'category': {'name': 'Secretary of Defense',\n",
       "   'url': '/category/politics/defense/secretary-of-defense'},\n",
       "  'isBreaking': False,\n",
       "  'isLive': False,\n",
       "  'duration': '',\n",
       "  'authors': [{'name': 'Chris Pandolfo'}]},\n",
       " {'imageUrl': 'https://a57.foxnews.com/cf-images.us-east-1.prod.boltdns.net/v1/static/694940094001/4df8bdd0-8083-414d-9bd9-1008d8538008/3e7ef2c4-80f5-452a-8a2a-3d80c834da38/1280x720/match/348/196/image.jpg?ve=1&tl=1',\n",
       "  'title': \"No new 'objects' reported in last 48 hours, Pentagon says\",\n",
       "  'description': 'Secretary of Defense Lloyd Austin on Wednesday said there have been no new \"objects\" reported in the last 48 hours.',\n",
       "  'url': 'https://www.foxnews.com/video/6320468042112',\n",
       "  'publicationDate': '2023-02-15T14:26:36Z',\n",
       "  'lastPublishedDate': '2023-02-15T14:26:36Z',\n",
       "  'category': {'name': 'VIDEO', 'url': ''},\n",
       "  'isBreaking': False,\n",
       "  'duration': '0:02:00',\n",
       "  'authors': []}]"
      ]
     },
     "execution_count": 118,
     "metadata": {},
     "output_type": "execute_result"
    }
   ],
   "source": [
    "y = json.loads(response.text)\n",
    "y"
   ]
  },
  {
   "cell_type": "code",
   "execution_count": 119,
   "id": "7aadfc10-3d88-4ea6-9f0e-6652c38f2a76",
   "metadata": {},
   "outputs": [
    {
     "data": {
      "text/plain": [
       "['/politics/nancy-mace-slams-mary-trump-racist-tweet-nikki-haley',\n",
       " '/politics/jordan-subpoenas-big-tech-ceos-records-collusion-biden-admin-suppress-free-speech',\n",
       " '/politics/pete-buttigieg-blames-trump-ohio-train-derailment-were-constrained',\n",
       " '/politics/georgia-senators-advance-bill-restrict-vaping-public-spaces',\n",
       " '/politics/norad-conducts-air-defense-exercise-days-russian-aircraft-intercepted-alaska-objects-shot-down',\n",
       " '/politics/nikki-haley-targets-biden-administration-during-2024-campaign-launch-not-leading',\n",
       " '/politics/ky-senate-advances-bill-track-relief-funds-tornado-aid-people-unaffected-disaster',\n",
       " '/politics/otto-warmbiers-mother-endorses-nikki-haley-president-heartfelt-speech',\n",
       " '/politics/doj-wont-charge-matt-gaetz-with-crimes-sex-trafficking-probe',\n",
       " '/politics/house-senate-republicans-battle-possible-defense-cuts-effort-curb-spending',\n",
       " '/politics/nebraska-department-agriculture-names-shery-vinton-new-director-becomes-first-woman-head-agency',\n",
       " '/politics/dem-compares-clarence-thomas-uncle-tom-georgia-senate-approves-statue',\n",
       " '/politics/nc-bill-requires-high-school-students-pass-computer-science-class-advances-legislature',\n",
       " '/politics/wisconsin-gov-tony-evers-budget-proposal-include-tax-cuts-plan-keep-brewers-stadium',\n",
       " '/politics/nm-senate-approves-landmark-bill-create-recurring-funds-conservation-projects',\n",
       " '/politics/grassley-rips-senates-sleepy-work-schedule-under-dem-leadership-things-need-change',\n",
       " '/politics/fossil-fuel-profits-vital-green-energy-projects-dems-routinely-tout',\n",
       " '/politics/nikki-haley-leaps-2024-gop-presidential-primary-campaign-rally',\n",
       " '/politics/space-force-space-command-pass-buck-ufos-us-airspace-security-questions-swirl',\n",
       " '/politics/national-archives-apologizes-march-for-life-visitors-offers-personal-tour',\n",
       " '/politics/iran-may-gifted-thousands-assault-rifles-ukraine-report',\n",
       " '/politics/flashback-dianne-feinstein-reminds-green-new-deal-kids-they-didnt-vote-for-her',\n",
       " '/politics/state-department-vows-us-will-defend-philippines-necessary-china-ship-blinds-crew-military-laser',\n",
       " '/politics/texas-gop-states-seek-preliminary-injunction-against-bidens-migrant-parole-program',\n",
       " '/politics/no-new-objects-reported-last-48-hours-pentagon-says']"
      ]
     },
     "execution_count": 119,
     "metadata": {},
     "output_type": "execute_result"
    }
   ],
   "source": [
    "\n",
    "lst_url = []\n",
    "for i in range(0,len(y)):\n",
    "    if \"https://www.foxnews.com/video/\" not in y[i]['url']:\n",
    "        lst_url.append(y[i]['url'])\n",
    "lst_url\n",
    "\n"
   ]
  },
  {
   "cell_type": "code",
   "execution_count": 120,
   "id": "d031f6df-910c-46a3-b0a7-5a62cebe99fc",
   "metadata": {},
   "outputs": [],
   "source": [
    "def get_title(url):\n",
    "    find = \"https://www.foxnews.com\" + url\n",
    "    response = requests.get(find)\n",
    "    text = response.text\n",
    "    soup = BeautifulSoup(response.content, \"html.parser\")\n",
    "    headline = soup.find_all(class_ = \"headline\")[0]\n",
    "    headline = str(headline)\n",
    "    headline_clean = headline.replace('<h1 class=\"headline\">',\"\").replace(\"</h1>\",\"\")\n",
    "    return headline_clean"
   ]
  },
  {
   "cell_type": "code",
   "execution_count": 24,
   "id": "29366555-a40e-4f82-8764-b8b34bf4caeb",
   "metadata": {},
   "outputs": [],
   "source": [
    "def get_body(find):\n",
    "    response = requests.get(find)\n",
    "    html = lx.fromstring(response.text)\n",
    "    string = html.xpath('//p')\n",
    "    lst  = []   \n",
    "    for i in range(0, len(string)):\n",
    "        article_part = string[i].text_content()\n",
    "        lst.append(article_part)\n",
    "    article_full = \"\".join(lst)\n",
    "    return article_full.lstrip()\n",
    "    "
   ]
  },
  {
   "cell_type": "code",
   "execution_count": 97,
   "id": "5c5be601-1b8f-4a56-8b1e-c55ba204602a",
   "metadata": {},
   "outputs": [],
   "source": [
    "#print(get_title(lst_url[1]))"
   ]
  },
  {
   "cell_type": "code",
   "execution_count": 98,
   "id": "6ba7f092-6c53-4de5-86a3-51b6b9c906e4",
   "metadata": {},
   "outputs": [],
   "source": [
    "#print(get_body(lst_url[1]))"
   ]
  },
  {
   "cell_type": "code",
   "execution_count": 122,
   "id": "7aea8ab2-5351-48c6-92ec-20dd3c2ae36f",
   "metadata": {},
   "outputs": [],
   "source": [
    "data = []\n",
    "\n",
    "for i in range(0,len(lst_url)):\n",
    "    lst_data = []\n",
    "    lst_data.append(get_title(lst_url[i]))\n",
    "    lst_data.append(get_body(lst_url[i]))\n",
    "    lst_data.append(\"https://www.foxnews.com\" + lst_url[i])\n",
    "    data.append(lst_data)\n"
   ]
  },
  {
   "cell_type": "code",
   "execution_count": 123,
   "id": "30dcaecb",
   "metadata": {},
   "outputs": [],
   "source": [
    "df = pd.DataFrame(data)\n",
    "df.columns = [\"Headline\",\"Article_Body\", \"url\"]"
   ]
  },
  {
   "cell_type": "code",
   "execution_count": 124,
   "id": "942cee6d",
   "metadata": {},
   "outputs": [
    {
     "data": {
      "text/html": [
       "<div>\n",
       "<style scoped>\n",
       "    .dataframe tbody tr th:only-of-type {\n",
       "        vertical-align: middle;\n",
       "    }\n",
       "\n",
       "    .dataframe tbody tr th {\n",
       "        vertical-align: top;\n",
       "    }\n",
       "\n",
       "    .dataframe thead th {\n",
       "        text-align: right;\n",
       "    }\n",
       "</style>\n",
       "<table border=\"1\" class=\"dataframe\">\n",
       "  <thead>\n",
       "    <tr style=\"text-align: right;\">\n",
       "      <th></th>\n",
       "      <th>Headline</th>\n",
       "      <th>Article_Body</th>\n",
       "      <th>url</th>\n",
       "    </tr>\n",
       "  </thead>\n",
       "  <tbody>\n",
       "    <tr>\n",
       "      <th>0</th>\n",
       "      <td>Rep. Nancy Mace slams Mary Trump for 'racist A...</td>\n",
       "      <td>MSNBC s Joy Reid attacked Nikki Haley follo...</td>\n",
       "      <td>https://www.foxnews.com/politics/nancy-mace-sl...</td>\n",
       "    </tr>\n",
       "    <tr>\n",
       "      <th>1</th>\n",
       "      <td>Jordan subpoenas Big Tech CEOs for records on ...</td>\n",
       "      <td>Outnumbered  panelists weigh in after the ...</td>\n",
       "      <td>https://www.foxnews.com/politics/jordan-subpoe...</td>\n",
       "    </tr>\n",
       "    <tr>\n",
       "      <th>2</th>\n",
       "      <td>Pete Buttigieg blames Trump for Ohio train der...</td>\n",
       "      <td>All-star panelists Marc Thiessen, Stef Knig...</td>\n",
       "      <td>https://www.foxnews.com/politics/pete-buttigie...</td>\n",
       "    </tr>\n",
       "    <tr>\n",
       "      <th>3</th>\n",
       "      <td>Georgia senators advance bill to restrict vapi...</td>\n",
       "      <td>Fox News Flash top headlines are here. Chec...</td>\n",
       "      <td>https://www.foxnews.com/politics/georgia-senat...</td>\n",
       "    </tr>\n",
       "    <tr>\n",
       "      <th>4</th>\n",
       "      <td>NORAD conducts air defense exercise days after...</td>\n",
       "      <td>Sen. John Kennedy, R-La., urges President B...</td>\n",
       "      <td>https://www.foxnews.com/politics/norad-conduct...</td>\n",
       "    </tr>\n",
       "    <tr>\n",
       "      <th>5</th>\n",
       "      <td>Nikki Haley targets Biden administration durin...</td>\n",
       "      <td>Cindy Warmbier, the mother of Otto Warmbier...</td>\n",
       "      <td>https://www.foxnews.com/politics/nikki-haley-t...</td>\n",
       "    </tr>\n",
       "    <tr>\n",
       "      <th>6</th>\n",
       "      <td>KY Senate advances bill to track relief funds ...</td>\n",
       "      <td>Fox News Flash top headlines are here. Chec...</td>\n",
       "      <td>https://www.foxnews.com/politics/ky-senate-adv...</td>\n",
       "    </tr>\n",
       "    <tr>\n",
       "      <th>7</th>\n",
       "      <td>Otto Warmbier's mother endorses Nikki Haley fo...</td>\n",
       "      <td>Cindy Warmbier, the mother of Otto Warmbier...</td>\n",
       "      <td>https://www.foxnews.com/politics/otto-warmbier...</td>\n",
       "    </tr>\n",
       "    <tr>\n",
       "      <th>8</th>\n",
       "      <td>DOJ won't charge Matt Gaetz with crimes in sex...</td>\n",
       "      <td>Reps. Jim Jordan and Matt Gaetz discuss the...</td>\n",
       "      <td>https://www.foxnews.com/politics/doj-wont-char...</td>\n",
       "    </tr>\n",
       "    <tr>\n",
       "      <th>9</th>\n",
       "      <td>House, Senate Republicans battle over possible...</td>\n",
       "      <td>Fox News Flash top headlines are here. Chec...</td>\n",
       "      <td>https://www.foxnews.com/politics/house-senate-...</td>\n",
       "    </tr>\n",
       "    <tr>\n",
       "      <th>10</th>\n",
       "      <td>Nebraska Department of Agriculture names Shery...</td>\n",
       "      <td>Fox News Flash top headlines are here. Chec...</td>\n",
       "      <td>https://www.foxnews.com/politics/nebraska-depa...</td>\n",
       "    </tr>\n",
       "    <tr>\n",
       "      <th>11</th>\n",
       "      <td>Dem compares Clarence Thomas to an 'Uncle Tom'...</td>\n",
       "      <td>MSNBC host Tiffany Cross referred to Suprem...</td>\n",
       "      <td>https://www.foxnews.com/politics/dem-compares-...</td>\n",
       "    </tr>\n",
       "    <tr>\n",
       "      <th>12</th>\n",
       "      <td>NC bill that requires high school students to ...</td>\n",
       "      <td>Fox News Flash top headlines are here. Chec...</td>\n",
       "      <td>https://www.foxnews.com/politics/nc-bill-requi...</td>\n",
       "    </tr>\n",
       "    <tr>\n",
       "      <th>13</th>\n",
       "      <td>Wisconsin Gov. Tony Evers' budget proposal wil...</td>\n",
       "      <td>Fox News Flash top headlines are here. Chec...</td>\n",
       "      <td>https://www.foxnews.com/politics/wisconsin-gov...</td>\n",
       "    </tr>\n",
       "    <tr>\n",
       "      <th>14</th>\n",
       "      <td>NM Senate approves landmark bill that would cr...</td>\n",
       "      <td>Fox News Flash top headlines are here. Chec...</td>\n",
       "      <td>https://www.foxnews.com/politics/nm-senate-app...</td>\n",
       "    </tr>\n",
       "    <tr>\n",
       "      <th>15</th>\n",
       "      <td>Grassley rips Senate’s sleepy work schedule un...</td>\n",
       "      <td>Sen. Chuck Schumer defended the delayed rea...</td>\n",
       "      <td>https://www.foxnews.com/politics/grassley-rips...</td>\n",
       "    </tr>\n",
       "    <tr>\n",
       "      <th>16</th>\n",
       "      <td>Fossil fuel profits are vital for green energy...</td>\n",
       "      <td>Meghan Lapp of the Center for Sustainable F...</td>\n",
       "      <td>https://www.foxnews.com/politics/fossil-fuel-p...</td>\n",
       "    </tr>\n",
       "    <tr>\n",
       "      <th>17</th>\n",
       "      <td>Nikki Haley leaps into 2024 GOP presidential p...</td>\n",
       "      <td>During the campaign launch, former South Ca...</td>\n",
       "      <td>https://www.foxnews.com/politics/nikki-haley-l...</td>\n",
       "    </tr>\n",
       "    <tr>\n",
       "      <th>18</th>\n",
       "      <td>Space Force, Space Command pass the buck on UF...</td>\n",
       "      <td>Secretary of Defense Lloyd Austin on Wednes...</td>\n",
       "      <td>https://www.foxnews.com/politics/space-force-s...</td>\n",
       "    </tr>\n",
       "    <tr>\n",
       "      <th>19</th>\n",
       "      <td>National Archives apologizes to March for Life...</td>\n",
       "      <td>Former Deputy Assistant Attorney General To...</td>\n",
       "      <td>https://www.foxnews.com/politics/national-arch...</td>\n",
       "    </tr>\n",
       "    <tr>\n",
       "      <th>20</th>\n",
       "      <td>Iran may have gifted thousands of assault rifl...</td>\n",
       "      <td>Fox News’ Rich Edson reports on Russia and ...</td>\n",
       "      <td>https://www.foxnews.com/politics/iran-may-gift...</td>\n",
       "    </tr>\n",
       "    <tr>\n",
       "      <th>21</th>\n",
       "      <td>FLASHBACK: Dianne Feinstein reminds Green New ...</td>\n",
       "      <td>A panel of senior citizens join  Fox &amp; Frie...</td>\n",
       "      <td>https://www.foxnews.com/politics/flashback-dia...</td>\n",
       "    </tr>\n",
       "    <tr>\n",
       "      <th>22</th>\n",
       "      <td>State Department vows US will defend Philippin...</td>\n",
       "      <td>Fox News Flash top headlines are here. Chec...</td>\n",
       "      <td>https://www.foxnews.com/politics/state-departm...</td>\n",
       "    </tr>\n",
       "    <tr>\n",
       "      <th>23</th>\n",
       "      <td>Texas, GOP states seek preliminary injunction ...</td>\n",
       "      <td>Fox News correspondent Griff Jenkins has th...</td>\n",
       "      <td>https://www.foxnews.com/politics/texas-gop-sta...</td>\n",
       "    </tr>\n",
       "    <tr>\n",
       "      <th>24</th>\n",
       "      <td>No new 'objects' reported in last 48 hours, Pe...</td>\n",
       "      <td>Secretary of Defense Lloyd Austin on Wednes...</td>\n",
       "      <td>https://www.foxnews.com/politics/no-new-object...</td>\n",
       "    </tr>\n",
       "  </tbody>\n",
       "</table>\n",
       "</div>"
      ],
      "text/plain": [
       "                                             Headline  \\\n",
       "0   Rep. Nancy Mace slams Mary Trump for 'racist A...   \n",
       "1   Jordan subpoenas Big Tech CEOs for records on ...   \n",
       "2   Pete Buttigieg blames Trump for Ohio train der...   \n",
       "3   Georgia senators advance bill to restrict vapi...   \n",
       "4   NORAD conducts air defense exercise days after...   \n",
       "5   Nikki Haley targets Biden administration durin...   \n",
       "6   KY Senate advances bill to track relief funds ...   \n",
       "7   Otto Warmbier's mother endorses Nikki Haley fo...   \n",
       "8   DOJ won't charge Matt Gaetz with crimes in sex...   \n",
       "9   House, Senate Republicans battle over possible...   \n",
       "10  Nebraska Department of Agriculture names Shery...   \n",
       "11  Dem compares Clarence Thomas to an 'Uncle Tom'...   \n",
       "12  NC bill that requires high school students to ...   \n",
       "13  Wisconsin Gov. Tony Evers' budget proposal wil...   \n",
       "14  NM Senate approves landmark bill that would cr...   \n",
       "15  Grassley rips Senate’s sleepy work schedule un...   \n",
       "16  Fossil fuel profits are vital for green energy...   \n",
       "17  Nikki Haley leaps into 2024 GOP presidential p...   \n",
       "18  Space Force, Space Command pass the buck on UF...   \n",
       "19  National Archives apologizes to March for Life...   \n",
       "20  Iran may have gifted thousands of assault rifl...   \n",
       "21  FLASHBACK: Dianne Feinstein reminds Green New ...   \n",
       "22  State Department vows US will defend Philippin...   \n",
       "23  Texas, GOP states seek preliminary injunction ...   \n",
       "24  No new 'objects' reported in last 48 hours, Pe...   \n",
       "\n",
       "                                         Article_Body  \\\n",
       "0      MSNBC s Joy Reid attacked Nikki Haley follo...   \n",
       "1       Outnumbered  panelists weigh in after the ...   \n",
       "2      All-star panelists Marc Thiessen, Stef Knig...   \n",
       "3      Fox News Flash top headlines are here. Chec...   \n",
       "4      Sen. John Kennedy, R-La., urges President B...   \n",
       "5      Cindy Warmbier, the mother of Otto Warmbier...   \n",
       "6      Fox News Flash top headlines are here. Chec...   \n",
       "7      Cindy Warmbier, the mother of Otto Warmbier...   \n",
       "8      Reps. Jim Jordan and Matt Gaetz discuss the...   \n",
       "9      Fox News Flash top headlines are here. Chec...   \n",
       "10     Fox News Flash top headlines are here. Chec...   \n",
       "11     MSNBC host Tiffany Cross referred to Suprem...   \n",
       "12     Fox News Flash top headlines are here. Chec...   \n",
       "13     Fox News Flash top headlines are here. Chec...   \n",
       "14     Fox News Flash top headlines are here. Chec...   \n",
       "15     Sen. Chuck Schumer defended the delayed rea...   \n",
       "16     Meghan Lapp of the Center for Sustainable F...   \n",
       "17     During the campaign launch, former South Ca...   \n",
       "18     Secretary of Defense Lloyd Austin on Wednes...   \n",
       "19     Former Deputy Assistant Attorney General To...   \n",
       "20     Fox News’ Rich Edson reports on Russia and ...   \n",
       "21     A panel of senior citizens join  Fox & Frie...   \n",
       "22     Fox News Flash top headlines are here. Chec...   \n",
       "23     Fox News correspondent Griff Jenkins has th...   \n",
       "24     Secretary of Defense Lloyd Austin on Wednes...   \n",
       "\n",
       "                                                  url  \n",
       "0   https://www.foxnews.com/politics/nancy-mace-sl...  \n",
       "1   https://www.foxnews.com/politics/jordan-subpoe...  \n",
       "2   https://www.foxnews.com/politics/pete-buttigie...  \n",
       "3   https://www.foxnews.com/politics/georgia-senat...  \n",
       "4   https://www.foxnews.com/politics/norad-conduct...  \n",
       "5   https://www.foxnews.com/politics/nikki-haley-t...  \n",
       "6   https://www.foxnews.com/politics/ky-senate-adv...  \n",
       "7   https://www.foxnews.com/politics/otto-warmbier...  \n",
       "8   https://www.foxnews.com/politics/doj-wont-char...  \n",
       "9   https://www.foxnews.com/politics/house-senate-...  \n",
       "10  https://www.foxnews.com/politics/nebraska-depa...  \n",
       "11  https://www.foxnews.com/politics/dem-compares-...  \n",
       "12  https://www.foxnews.com/politics/nc-bill-requi...  \n",
       "13  https://www.foxnews.com/politics/wisconsin-gov...  \n",
       "14  https://www.foxnews.com/politics/nm-senate-app...  \n",
       "15  https://www.foxnews.com/politics/grassley-rips...  \n",
       "16  https://www.foxnews.com/politics/fossil-fuel-p...  \n",
       "17  https://www.foxnews.com/politics/nikki-haley-l...  \n",
       "18  https://www.foxnews.com/politics/space-force-s...  \n",
       "19  https://www.foxnews.com/politics/national-arch...  \n",
       "20  https://www.foxnews.com/politics/iran-may-gift...  \n",
       "21  https://www.foxnews.com/politics/flashback-dia...  \n",
       "22  https://www.foxnews.com/politics/state-departm...  \n",
       "23  https://www.foxnews.com/politics/texas-gop-sta...  \n",
       "24  https://www.foxnews.com/politics/no-new-object...  "
      ]
     },
     "execution_count": 124,
     "metadata": {},
     "output_type": "execute_result"
    }
   ],
   "source": [
    "df"
   ]
  },
  {
   "cell_type": "code",
   "execution_count": 128,
   "id": "739a6a08",
   "metadata": {},
   "outputs": [],
   "source": [
    "df.to_csv(\"News_Data_set.csv\")"
   ]
  },
  {
   "cell_type": "code",
   "execution_count": 153,
   "id": "394a2042",
   "metadata": {},
   "outputs": [],
   "source": [
    "master_df = []\n",
    "for i in range(0,9970,1000):\n",
    "    url = (\"https://www.foxnews.com/api/article-search?searchBy=categories&\"\n",
    "          + f\"values=fox-news%2Fpolitics&size=1000&from={i}&mediaTags=primary_politics\")\n",
    "    response = requests.get(url)\n",
    "    lst_url = []\n",
    "    y = json.loads(response.text)\n",
    "    for x in range(0,len(y)):\n",
    "        if \"https://www.foxnews.com/video/\" not in y[x]['url']:\n",
    "            lst_url.append(y[x]['url'])\n",
    "    for j in range(0,len(lst_url)):\n",
    "        df_dict = {\"title\":get_title(lst_url[j]) , \"body\":get_body(lst_url[j]) , \"Url\":\"https://www.foxnews.com\" + lst_url[j]}\n",
    "        master_df.append(df_dict)"
   ]
  },
  {
   "cell_type": "code",
   "execution_count": 154,
   "id": "8b32729b",
   "metadata": {},
   "outputs": [],
   "source": [
    "master_pd_df = pd.DataFrame.from_records(master_df)"
   ]
  },
  {
   "cell_type": "code",
   "execution_count": 155,
   "id": "a89cca73",
   "metadata": {},
   "outputs": [
    {
     "data": {
      "text/html": [
       "<div>\n",
       "<style scoped>\n",
       "    .dataframe tbody tr th:only-of-type {\n",
       "        vertical-align: middle;\n",
       "    }\n",
       "\n",
       "    .dataframe tbody tr th {\n",
       "        vertical-align: top;\n",
       "    }\n",
       "\n",
       "    .dataframe thead th {\n",
       "        text-align: right;\n",
       "    }\n",
       "</style>\n",
       "<table border=\"1\" class=\"dataframe\">\n",
       "  <thead>\n",
       "    <tr style=\"text-align: right;\">\n",
       "      <th></th>\n",
       "      <th>title</th>\n",
       "      <th>body</th>\n",
       "      <th>Url</th>\n",
       "    </tr>\n",
       "  </thead>\n",
       "  <tbody>\n",
       "    <tr>\n",
       "      <th>0</th>\n",
       "      <td>Massachusetts Democrats decide fate of lawmake...</td>\n",
       "      <td>A Democrat official in Framingham, Massachu...</td>\n",
       "      <td>https://www.foxnews.com/politics/massachusetts...</td>\n",
       "    </tr>\n",
       "    <tr>\n",
       "      <th>1</th>\n",
       "      <td>Democrat Ohio senator fundraises in Hollywood ...</td>\n",
       "      <td>Ohio residents tell Dr. Marc Siegel it’s li...</td>\n",
       "      <td>https://www.foxnews.com/politics/democrat-ohio...</td>\n",
       "    </tr>\n",
       "    <tr>\n",
       "      <th>2</th>\n",
       "      <td>DeSantis slams China’s COVID-19 ‘cover-up’ in ...</td>\n",
       "      <td>Axiom Strategies Founder and CEO Jeff Roe t...</td>\n",
       "      <td>https://www.foxnews.com/politics/desantis-slam...</td>\n",
       "    </tr>\n",
       "    <tr>\n",
       "      <th>3</th>\n",
       "      <td>Biden admin quietly admits White House's 9,000...</td>\n",
       "      <td>CEO of Alaska Oil &amp; Gas Association Kara Mo...</td>\n",
       "      <td>https://www.foxnews.com/politics/biden-admin-q...</td>\n",
       "    </tr>\n",
       "    <tr>\n",
       "      <th>4</th>\n",
       "      <td>COVID lab leak theory: Rand Paul says Biden sh...</td>\n",
       "      <td>The Big Sunday Show  co-hosts weigh in on ...</td>\n",
       "      <td>https://www.foxnews.com/politics/covid-lab-lea...</td>\n",
       "    </tr>\n",
       "    <tr>\n",
       "      <th>...</th>\n",
       "      <td>...</td>\n",
       "      <td>...</td>\n",
       "      <td>...</td>\n",
       "    </tr>\n",
       "    <tr>\n",
       "      <th>159</th>\n",
       "      <td>Time is running out</td>\n",
       "      <td>Fox News congressional correspondent Chad P...</td>\n",
       "      <td>https://www.foxnews.com/politics/time-running-out</td>\n",
       "    </tr>\n",
       "    <tr>\n",
       "      <th>160</th>\n",
       "      <td>Trump mocks DeSantis at Pennsylvania rally: 'R...</td>\n",
       "      <td>Former President Trump mocked Gov. Ron DeSa...</td>\n",
       "      <td>https://www.foxnews.com/politics/trump-mocks-d...</td>\n",
       "    </tr>\n",
       "    <tr>\n",
       "      <th>161</th>\n",
       "      <td>Fetterman says he supports 'codifying' Roe v. ...</td>\n",
       "      <td>Pennsylvania U.S. Senate candidate John Fet...</td>\n",
       "      <td>https://www.foxnews.com/politics/fetterman-say...</td>\n",
       "    </tr>\n",
       "    <tr>\n",
       "      <th>162</th>\n",
       "      <td>Iowa poll shows Chuck Grassley ahead of Mike F...</td>\n",
       "      <td>Sen. Chuck Grassley, R-Iowa., on pressing f...</td>\n",
       "      <td>https://www.foxnews.com/politics/iowa-poll-sho...</td>\n",
       "    </tr>\n",
       "    <tr>\n",
       "      <th>163</th>\n",
       "      <td>Rep. Maloney recalls 'eating Chef Boyardee' as...</td>\n",
       "      <td>Republican candidate for NY-17 House candid...</td>\n",
       "      <td>https://www.foxnews.com/politics/rep-maloney-r...</td>\n",
       "    </tr>\n",
       "  </tbody>\n",
       "</table>\n",
       "<p>164 rows × 3 columns</p>\n",
       "</div>"
      ],
      "text/plain": [
       "                                                 title  \\\n",
       "0    Massachusetts Democrats decide fate of lawmake...   \n",
       "1    Democrat Ohio senator fundraises in Hollywood ...   \n",
       "2    DeSantis slams China’s COVID-19 ‘cover-up’ in ...   \n",
       "3    Biden admin quietly admits White House's 9,000...   \n",
       "4    COVID lab leak theory: Rand Paul says Biden sh...   \n",
       "..                                                 ...   \n",
       "159                                Time is running out   \n",
       "160  Trump mocks DeSantis at Pennsylvania rally: 'R...   \n",
       "161  Fetterman says he supports 'codifying' Roe v. ...   \n",
       "162  Iowa poll shows Chuck Grassley ahead of Mike F...   \n",
       "163  Rep. Maloney recalls 'eating Chef Boyardee' as...   \n",
       "\n",
       "                                                  body  \\\n",
       "0       A Democrat official in Framingham, Massachu...   \n",
       "1       Ohio residents tell Dr. Marc Siegel it’s li...   \n",
       "2       Axiom Strategies Founder and CEO Jeff Roe t...   \n",
       "3       CEO of Alaska Oil & Gas Association Kara Mo...   \n",
       "4        The Big Sunday Show  co-hosts weigh in on ...   \n",
       "..                                                 ...   \n",
       "159     Fox News congressional correspondent Chad P...   \n",
       "160     Former President Trump mocked Gov. Ron DeSa...   \n",
       "161     Pennsylvania U.S. Senate candidate John Fet...   \n",
       "162     Sen. Chuck Grassley, R-Iowa., on pressing f...   \n",
       "163     Republican candidate for NY-17 House candid...   \n",
       "\n",
       "                                                   Url  \n",
       "0    https://www.foxnews.com/politics/massachusetts...  \n",
       "1    https://www.foxnews.com/politics/democrat-ohio...  \n",
       "2    https://www.foxnews.com/politics/desantis-slam...  \n",
       "3    https://www.foxnews.com/politics/biden-admin-q...  \n",
       "4    https://www.foxnews.com/politics/covid-lab-lea...  \n",
       "..                                                 ...  \n",
       "159  https://www.foxnews.com/politics/time-running-out  \n",
       "160  https://www.foxnews.com/politics/trump-mocks-d...  \n",
       "161  https://www.foxnews.com/politics/fetterman-say...  \n",
       "162  https://www.foxnews.com/politics/iowa-poll-sho...  \n",
       "163  https://www.foxnews.com/politics/rep-maloney-r...  \n",
       "\n",
       "[164 rows x 3 columns]"
      ]
     },
     "execution_count": 155,
     "metadata": {},
     "output_type": "execute_result"
    }
   ],
   "source": [
    "master_pd_df"
   ]
  },
  {
   "cell_type": "code",
   "execution_count": 156,
   "id": "70c4c85b",
   "metadata": {},
   "outputs": [],
   "source": [
    "master_pd_df.to_csv(\"164_articles.csv\")"
   ]
  },
  {
   "cell_type": "code",
   "execution_count": 1,
   "id": "451adc77-be63-4178-ad9b-37a7e53c0df9",
   "metadata": {},
   "outputs": [
    {
     "data": {
      "text/plain": [
       "[0, 1000, 2000, 3000, 4000, 5000, 6000, 7000, 8000, 9000]"
      ]
     },
     "execution_count": 1,
     "metadata": {},
     "output_type": "execute_result"
    }
   ],
   "source": [
    "list(range(0,10000,1000))"
   ]
  },
  {
   "cell_type": "code",
   "execution_count": 7,
   "id": "3cc7bffa-ccf0-4e33-af8f-b87cb571112e",
   "metadata": {
    "collapsed": true,
    "jupyter": {
     "outputs_hidden": true
    },
    "tags": []
   },
   "outputs": [
    {
     "data": {
      "text/plain": [
       "' Former Maryland Gov. Larry Hogan said Sunday that he will not seek the Republican nomination for president in 2024, worried that his candidacy in a crowded primary could help former President Donald Trump clear the GOP field and win the nomination.  “I have long said that I care more about ensuring a future for the Republican Party than securing my own future in the Republican Party. That is why I will not be seeking the Republican nomination for president,” he said in a statement.  After leaving office in January, Hogan said that he was seriously considering running for president.  But on Sunday, the longtime Trump critic said that “the stakes are too high for me to risk being part of another multicar pileup that could potentially help Mr. Trump recapture the nomination.” Maryland Gov. Larry Hogan says Trump has cost the GOP the last three elections  Trump is making his third bid for the Republican nomination in a race that has been slow to take shape. Former United Nations Ambassador Nikki Haley and entrepreneur Vivek Ramaswamy entered the primary last month. Potential contenders for the GOP nomination include Florida Gov. Ron DeSantis, former Vice President MIke Pence, New Hampshire Gov. Chris Sununu and former Arkansas Gov. Asa Hutchinson. In his statement Sunday, Hogan, who served two terms as Maryland governor, argued that his party needs to “move on” from Trump, and he vowed “to stay in the fight” for the direction of the GOP.  “Our nation faces great challenges; we can’t afford to be consumed by the pettiest grievances. We can push back and defeat the excesses of elitist policies on the left without resorting to angry, divisive and performative politics,” he said.  A relatively moderate Republican, Hogan has long been critical of Trump’s influence on the party and did not vote for him in 2016 or 2020. Hogan was even seen as a potential challenger to Trump in the 2020 GOP primary but decided to instead focus on his second term as governor, acknowledging at the time that it would difficult to overcome the president’s popularity among the Republican base.  This election cycle, it’s unclear whether a Hogan candidacy would have appealed to the GOP base in a field with other more viable alternatives to Trump.  “Right now, you have Trump and DeSantis at the top of the field, soaking up all the oxygen, getting all the attention, and then a whole lot of the rest of us in single digits,” Hogan told CBS News in an interview that aired Sunday. “And the more of them you have, the less chance you have for somebody rising up.”  The Maryland Republican plans to “wait and see” how the GOP field develops before making an endorsement, his spokesperson David Weinman told CNN.  Hogan told CBS News that he could “absolutely” support Pence. The two have been friendly, and Hogan plans to attend the same foreign policy forum as the former vice president later this month in Iowa. Ron DeSantis  use of government power to implement agenda worries some conservatives  In interviews, Hogan hasn’t ruled out supporting DeSantis should the Florida governor run. But he has pointed out that DeSantis’ style is different from his and has been critical of the governor’s battle with Disney. Hogan also previously said on CNN that DeSantis has to appeal to a broader audience “if he wants a political future beyond Florida.”  Hogan was first elected governor in 2014, comfortably won reelection in 2018 and left office in January with high approval ratings. In recent decades, the state has been dominated by the Democratic Party at the state and federal levels. George H.W. Bush was the last Republican presidential nominee to win the Old Line State, in 1988.  Hogan faced several challenges throughout his governorship: riots in Baltimore, an unprecedented pandemic and a cancer diagnosis.  Hogan is not the first member of his family to go against his party’s standard-bearer. His father, the late former Maryland Rep. Larry Hogan Sr., was the first Republican to advocate GOP President Richard Nixon’s impeachment and the only Republican to vote for all the impeachment articles. The former governor has said that had he been in the US Senate, he would have voted to convict Trump at his 2021 impeachment trial.  In his interview with CBS News, Hogan said he believes that there’s a “big fight” for the “heart and soul of the Republican Party” and that “we’re making progress,” pointing to Trump’s drop in support among Republicans following the January 6, 2021, attack on the US Capitol. Trump still presents a “formidable challenge,” he said, but “a year is an eternity in politics” and the 2024 race could be completely different a year from now.  Asked if his decision not to run is an acknowledgment that Ronald Reagan’s party is fading or dead, Hogan said, “I don’t feel that way at all.” “We certainly went off in the wrong direction. And we’re not back on track. It’s going to take a while. We’re not there yet. I would say the party of Reagan is not dead and neither is the party of Trump,” he said.  This story has been updated with additional information.© 2023 Cable News Network. A Warner Bros. Discovery Company. All Rights Reserved.CNN Sans ™ & © 2016 Cable News Network.'"
      ]
     },
     "execution_count": 7,
     "metadata": {},
     "output_type": "execute_result"
    }
   ],
   "source": [
    "get_body(\"https://www.cnn.com/2023/03/05/politics/larry-hogan-republican-president-2024/index.html\")"
   ]
  },
  {
   "cell_type": "code",
   "execution_count": 7,
   "id": "985e0f16",
   "metadata": {},
   "outputs": [],
   "source": [
    "master_df_cnn = []\n",
    "lst_url = []\n",
    "for idx,i in enumerate(range(0,40000,1000)):\n",
    "    url = (f\"https://prod.di.api.cnn.io/search/query?q=&size=1000&from={i}&page={idx+1}&sort=newest&sections=politics\")\n",
    "    response = requests.get(url)\n",
    "#     print(response.text)\n",
    "    \n",
    "    y = json.loads(response.text)\n",
    "    # print(y)\n",
    "    lst_url.extend([ path['path'] for path in y['result'] if not \"videos\" in path['path']])\n",
    "#     for x in range(0,len(y)):\n",
    "#         if \"https://www.foxnews.com/video/\" not in y[x]['url']:\n",
    "#             lst_url.append(y[x]['url'])\n",
    "#     for j in range(0,len(lst_url)):\n",
    "#         df_dict = {\"title\":get_title(lst_url[j]) , \"body\":get_body(lst_url[j]) , \"Url\":\"https://www.foxnews.com\" + lst_url[j]}\n",
    "#         master_df.append(df_dict)"
   ]
  },
  {
   "cell_type": "code",
   "execution_count": 28,
   "id": "b42025f0",
   "metadata": {},
   "outputs": [],
   "source": [
    "master_df = []\n",
    "for j in range(0,len(lst_url[:164])):\n",
    "    df_dict = {\"title\":\"\" , \"body\":get_body(lst_url[j]) , \"Url\":lst_url[j]}\n",
    "    master_df.append(df_dict)"
   ]
  },
  {
   "cell_type": "code",
   "execution_count": 33,
   "id": "dd9962c2-9656-4503-9ff9-a7816e8c7133",
   "metadata": {},
   "outputs": [],
   "source": [
    "#master_pd_df = pd.DataFrame.from_records(master_df)\n",
    "master_pd_df.to_csv(\"164_articles_cnn_clean.csv\")"
   ]
  },
  {
   "cell_type": "code",
   "execution_count": 32,
   "id": "07adf058-eff0-45e5-a773-e1413b522f5d",
   "metadata": {},
   "outputs": [
    {
     "data": {
      "text/html": [
       "<div>\n",
       "<style scoped>\n",
       "    .dataframe tbody tr th:only-of-type {\n",
       "        vertical-align: middle;\n",
       "    }\n",
       "\n",
       "    .dataframe tbody tr th {\n",
       "        vertical-align: top;\n",
       "    }\n",
       "\n",
       "    .dataframe thead th {\n",
       "        text-align: right;\n",
       "    }\n",
       "</style>\n",
       "<table border=\"1\" class=\"dataframe\">\n",
       "  <thead>\n",
       "    <tr style=\"text-align: right;\">\n",
       "      <th></th>\n",
       "      <th>title</th>\n",
       "      <th>body</th>\n",
       "      <th>Url</th>\n",
       "    </tr>\n",
       "  </thead>\n",
       "  <tbody>\n",
       "    <tr>\n",
       "      <th>0</th>\n",
       "      <td></td>\n",
       "      <td>US Director of National Intelligence Avril Hai...</td>\n",
       "      <td>https://www.cnn.com/2023/03/08/politics/us-int...</td>\n",
       "    </tr>\n",
       "    <tr>\n",
       "      <th>1</th>\n",
       "      <td></td>\n",
       "      <td>Markets Fear &amp; Greed Index  Latest Market News...</td>\n",
       "      <td>https://www.cnn.com/2023/03/08/tech/biden-tikt...</td>\n",
       "    </tr>\n",
       "    <tr>\n",
       "      <th>2</th>\n",
       "      <td></td>\n",
       "      <td>LiveRussia s war in UkraineLiveAmericans kidna...</td>\n",
       "      <td>https://www.cnn.com/business/live-news/stock-m...</td>\n",
       "    </tr>\n",
       "    <tr>\n",
       "      <th>3</th>\n",
       "      <td></td>\n",
       "      <td>Editor’s Note: Sign up for Unlocking the World...</td>\n",
       "      <td>https://www.cnn.com/travel/article/travel-to-m...</td>\n",
       "    </tr>\n",
       "    <tr>\n",
       "      <th>4</th>\n",
       "      <td></td>\n",
       "      <td>By Aimee Lewis, CNNUpdated 12:32 PM ET, Sun Fe...</td>\n",
       "      <td>https://www.cnn.com/2023/02/12/sport/sky-brown...</td>\n",
       "    </tr>\n",
       "    <tr>\n",
       "      <th>...</th>\n",
       "      <td>...</td>\n",
       "      <td>...</td>\n",
       "      <td>...</td>\n",
       "    </tr>\n",
       "    <tr>\n",
       "      <th>159</th>\n",
       "      <td></td>\n",
       "      <td>Content is created by CNN Underscored’s team o...</td>\n",
       "      <td>https://www.cnn.com/2020/12/18/cnn-underscored...</td>\n",
       "    </tr>\n",
       "    <tr>\n",
       "      <th>160</th>\n",
       "      <td></td>\n",
       "      <td>YouTuber Jake Paul is trying to capitalize on ...</td>\n",
       "      <td>https://www.cnn.com/2020/12/15/us/conor-mcgreg...</td>\n",
       "    </tr>\n",
       "    <tr>\n",
       "      <th>161</th>\n",
       "      <td></td>\n",
       "      <td>Shipping giants FedEx and UPS may have to make...</td>\n",
       "      <td>https://www.cnn.com/2020/12/15/weather/fedex-u...</td>\n",
       "    </tr>\n",
       "    <tr>\n",
       "      <th>162</th>\n",
       "      <td></td>\n",
       "      <td>Updated 2:00 PM EST, Tue December 15, 2020 Ann...</td>\n",
       "      <td>https://www.cnn.com/2020/12/15/entertainment/g...</td>\n",
       "    </tr>\n",
       "    <tr>\n",
       "      <th>163</th>\n",
       "      <td></td>\n",
       "      <td>Markets Fear &amp; Greed Index  Latest Market News...</td>\n",
       "      <td>https://www.cnn.com/2020/12/15/media/anna-wint...</td>\n",
       "    </tr>\n",
       "  </tbody>\n",
       "</table>\n",
       "<p>164 rows × 3 columns</p>\n",
       "</div>"
      ],
      "text/plain": [
       "    title                                               body  \\\n",
       "0          US Director of National Intelligence Avril Hai...   \n",
       "1          Markets Fear & Greed Index  Latest Market News...   \n",
       "2          LiveRussia s war in UkraineLiveAmericans kidna...   \n",
       "3          Editor’s Note: Sign up for Unlocking the World...   \n",
       "4          By Aimee Lewis, CNNUpdated 12:32 PM ET, Sun Fe...   \n",
       "..    ...                                                ...   \n",
       "159        Content is created by CNN Underscored’s team o...   \n",
       "160        YouTuber Jake Paul is trying to capitalize on ...   \n",
       "161        Shipping giants FedEx and UPS may have to make...   \n",
       "162        Updated 2:00 PM EST, Tue December 15, 2020 Ann...   \n",
       "163        Markets Fear & Greed Index  Latest Market News...   \n",
       "\n",
       "                                                   Url  \n",
       "0    https://www.cnn.com/2023/03/08/politics/us-int...  \n",
       "1    https://www.cnn.com/2023/03/08/tech/biden-tikt...  \n",
       "2    https://www.cnn.com/business/live-news/stock-m...  \n",
       "3    https://www.cnn.com/travel/article/travel-to-m...  \n",
       "4    https://www.cnn.com/2023/02/12/sport/sky-brown...  \n",
       "..                                                 ...  \n",
       "159  https://www.cnn.com/2020/12/18/cnn-underscored...  \n",
       "160  https://www.cnn.com/2020/12/15/us/conor-mcgreg...  \n",
       "161  https://www.cnn.com/2020/12/15/weather/fedex-u...  \n",
       "162  https://www.cnn.com/2020/12/15/entertainment/g...  \n",
       "163  https://www.cnn.com/2020/12/15/media/anna-wint...  \n",
       "\n",
       "[164 rows x 3 columns]"
      ]
     },
     "execution_count": 32,
     "metadata": {},
     "output_type": "execute_result"
    }
   ],
   "source": [
    "master_pd_df.replace('\\r|\\n|\\t', '', regex=True)"
   ]
  },
  {
   "cell_type": "code",
   "execution_count": 34,
   "id": "df8273a4-90d9-419b-8b10-5589f85dab1c",
   "metadata": {},
   "outputs": [
    {
     "data": {
      "text/html": [
       "<div>\n",
       "<style scoped>\n",
       "    .dataframe tbody tr th:only-of-type {\n",
       "        vertical-align: middle;\n",
       "    }\n",
       "\n",
       "    .dataframe tbody tr th {\n",
       "        vertical-align: top;\n",
       "    }\n",
       "\n",
       "    .dataframe thead th {\n",
       "        text-align: right;\n",
       "    }\n",
       "</style>\n",
       "<table border=\"1\" class=\"dataframe\">\n",
       "  <thead>\n",
       "    <tr style=\"text-align: right;\">\n",
       "      <th></th>\n",
       "      <th>title</th>\n",
       "      <th>body</th>\n",
       "      <th>Url</th>\n",
       "    </tr>\n",
       "  </thead>\n",
       "  <tbody>\n",
       "    <tr>\n",
       "      <th>52</th>\n",
       "      <td></td>\n",
       "      <td></td>\n",
       "      <td>https://www.cnn.com/travel/gallery/roman-sevil...</td>\n",
       "    </tr>\n",
       "    <tr>\n",
       "      <th>64</th>\n",
       "      <td></td>\n",
       "      <td></td>\n",
       "      <td>https://www.cnn.com/travel/gallery/pies-around...</td>\n",
       "    </tr>\n",
       "    <tr>\n",
       "      <th>94</th>\n",
       "      <td></td>\n",
       "      <td></td>\n",
       "      <td>https://www.cnn.com/travel/gallery/shortest-fl...</td>\n",
       "    </tr>\n",
       "    <tr>\n",
       "      <th>95</th>\n",
       "      <td></td>\n",
       "      <td></td>\n",
       "      <td>https://www.cnn.com/style/gallery/fred-ebami-n...</td>\n",
       "    </tr>\n",
       "    <tr>\n",
       "      <th>96</th>\n",
       "      <td></td>\n",
       "      <td></td>\n",
       "      <td>https://www.cnn.com/style/article/lee-jae-myun...</td>\n",
       "    </tr>\n",
       "    <tr>\n",
       "      <th>103</th>\n",
       "      <td></td>\n",
       "      <td></td>\n",
       "      <td>https://www.cnn.com/style/article/einstein-man...</td>\n",
       "    </tr>\n",
       "    <tr>\n",
       "      <th>106</th>\n",
       "      <td></td>\n",
       "      <td></td>\n",
       "      <td>https://www.cnn.com/travel/gallery/brooklyn-bu...</td>\n",
       "    </tr>\n",
       "    <tr>\n",
       "      <th>117</th>\n",
       "      <td></td>\n",
       "      <td></td>\n",
       "      <td>https://www.cnn.com/style/article/billy-porter...</td>\n",
       "    </tr>\n",
       "    <tr>\n",
       "      <th>131</th>\n",
       "      <td></td>\n",
       "      <td></td>\n",
       "      <td>https://www.cnn.com/2021/08/23/world/josephine...</td>\n",
       "    </tr>\n",
       "  </tbody>\n",
       "</table>\n",
       "</div>"
      ],
      "text/plain": [
       "    title body                                                Url\n",
       "52              https://www.cnn.com/travel/gallery/roman-sevil...\n",
       "64              https://www.cnn.com/travel/gallery/pies-around...\n",
       "94              https://www.cnn.com/travel/gallery/shortest-fl...\n",
       "95              https://www.cnn.com/style/gallery/fred-ebami-n...\n",
       "96              https://www.cnn.com/style/article/lee-jae-myun...\n",
       "103             https://www.cnn.com/style/article/einstein-man...\n",
       "106             https://www.cnn.com/travel/gallery/brooklyn-bu...\n",
       "117             https://www.cnn.com/style/article/billy-porter...\n",
       "131             https://www.cnn.com/2021/08/23/world/josephine..."
      ]
     },
     "execution_count": 34,
     "metadata": {},
     "output_type": "execute_result"
    }
   ],
   "source": [
    "master_pd_df[master_pd_df.body == \"\"]"
   ]
  },
  {
   "cell_type": "code",
   "execution_count": 45,
   "id": "aa3303bc-1ef1-4df4-a7cd-58be6938ec3f",
   "metadata": {},
   "outputs": [],
   "source": [
    "df_cnn = pd.read_csv(\"164_labeled_cnn.csv\")\n",
    "df_fox = pd.read_csv(\"164_labeled.csv\")[:155]"
   ]
  },
  {
   "cell_type": "code",
   "execution_count": 46,
   "id": "b1dfc198-590a-45fa-a595-704cddb72ef6",
   "metadata": {},
   "outputs": [
    {
     "data": {
      "text/plain": [
       "155"
      ]
     },
     "execution_count": 46,
     "metadata": {},
     "output_type": "execute_result"
    }
   ],
   "source": [
    "len(df_cnn)"
   ]
  },
  {
   "cell_type": "code",
   "execution_count": 47,
   "id": "fd3f4ee2-b20f-4e55-ad9b-cde3c29f8e04",
   "metadata": {},
   "outputs": [
    {
     "data": {
      "text/plain": [
       "155"
      ]
     },
     "execution_count": 47,
     "metadata": {},
     "output_type": "execute_result"
    }
   ],
   "source": [
    "len(df_fox)"
   ]
  },
  {
   "cell_type": "code",
   "execution_count": 48,
   "id": "c81a9e2c-9805-4306-9b0d-020b95f5680c",
   "metadata": {},
   "outputs": [],
   "source": [
    "df_cnn[\"site\"] = \"CNN\"\n",
    "df_fox[\"site\"] = \"FoxNews\""
   ]
  },
  {
   "cell_type": "code",
   "execution_count": 49,
   "id": "5aa55f87-181a-49ce-88ff-e4b5f2d5ab7c",
   "metadata": {},
   "outputs": [],
   "source": [
    "df_both = pd.concat([df_cnn, df_fox])"
   ]
  },
  {
   "cell_type": "code",
   "execution_count": 65,
   "id": "d2b8c6be-8f45-4616-8bb3-8b174063609a",
   "metadata": {},
   "outputs": [],
   "source": [
    "sample = df_both.replace('\\r|\\n|\\t', '', regex=True).sample(10).reset_index()"
   ]
  },
  {
   "cell_type": "code",
   "execution_count": 67,
   "id": "ca5243b0-a98c-4579-959f-413119e7e3e4",
   "metadata": {},
   "outputs": [
    {
     "data": {
      "text/html": [
       "<div>\n",
       "<style scoped>\n",
       "    .dataframe tbody tr th:only-of-type {\n",
       "        vertical-align: middle;\n",
       "    }\n",
       "\n",
       "    .dataframe tbody tr th {\n",
       "        vertical-align: top;\n",
       "    }\n",
       "\n",
       "    .dataframe thead th {\n",
       "        text-align: right;\n",
       "    }\n",
       "</style>\n",
       "<table border=\"1\" class=\"dataframe\">\n",
       "  <thead>\n",
       "    <tr style=\"text-align: right;\">\n",
       "      <th></th>\n",
       "      <th>body</th>\n",
       "      <th>Url</th>\n",
       "      <th>site</th>\n",
       "      <th>label</th>\n",
       "    </tr>\n",
       "  </thead>\n",
       "  <tbody>\n",
       "    <tr>\n",
       "      <th>0</th>\n",
       "      <td>Arizona Rep. Debbie Lesko speaks on how the...</td>\n",
       "      <td>https://www.foxnews.com/politics/house-oversig...</td>\n",
       "      <td>FoxNews</td>\n",
       "      <td>REAL</td>\n",
       "    </tr>\n",
       "    <tr>\n",
       "      <th>1</th>\n",
       "      <td>White House correspondent Jacqui Heinrich r...</td>\n",
       "      <td>https://www.foxnews.com/politics/twitter-flags...</td>\n",
       "      <td>FoxNews</td>\n",
       "      <td>REAL</td>\n",
       "    </tr>\n",
       "    <tr>\n",
       "      <th>2</th>\n",
       "      <td>Republican voters in Georgia appear divided...</td>\n",
       "      <td>https://www.foxnews.com/politics/watch-georgia...</td>\n",
       "      <td>FoxNews</td>\n",
       "      <td>REAL</td>\n",
       "    </tr>\n",
       "    <tr>\n",
       "      <th>3</th>\n",
       "      <td>The Democratic-led House of Representatives on...</td>\n",
       "      <td>https://www.cnn.com/2022/07/15/politics/house-...</td>\n",
       "      <td>CNN</td>\n",
       "      <td>REAL</td>\n",
       "    </tr>\n",
       "    <tr>\n",
       "      <th>4</th>\n",
       "      <td>During a Senate Foreign Relations Committee...</td>\n",
       "      <td>https://www.foxnews.com/politics/democrat-sen-...</td>\n",
       "      <td>FoxNews</td>\n",
       "      <td>REAL</td>\n",
       "    </tr>\n",
       "    <tr>\n",
       "      <th>5</th>\n",
       "      <td>Updated 1:08 PM EST, Fri December 16, 2022 Bri...</td>\n",
       "      <td>https://www.cnn.com/2022/08/04/sport/gallery/b...</td>\n",
       "      <td>CNN</td>\n",
       "      <td>FAKE</td>\n",
       "    </tr>\n",
       "    <tr>\n",
       "      <th>6</th>\n",
       "      <td>Fox News Flash top headlines are here. Chec...</td>\n",
       "      <td>https://www.foxnews.com/politics/co-lawmakers-...</td>\n",
       "      <td>FoxNews</td>\n",
       "      <td>FAKE</td>\n",
       "    </tr>\n",
       "    <tr>\n",
       "      <th>7</th>\n",
       "      <td>Fox News congressional correspondent Chad P...</td>\n",
       "      <td>https://www.foxnews.com/politics/dems-push-dec...</td>\n",
       "      <td>FoxNews</td>\n",
       "      <td>REAL</td>\n",
       "    </tr>\n",
       "    <tr>\n",
       "      <th>8</th>\n",
       "      <td>The Cyber Ninjas failed to prove fraud in the ...</td>\n",
       "      <td>https://www.cnn.com/2021/09/27/politics/arizon...</td>\n",
       "      <td>CNN</td>\n",
       "      <td>FAKE</td>\n",
       "    </tr>\n",
       "    <tr>\n",
       "      <th>9</th>\n",
       "      <td>Markets Fear &amp; Greed Index  Latest Market News...</td>\n",
       "      <td>https://www.cnn.com/2022/10/27/tech/amazon-ear...</td>\n",
       "      <td>CNN</td>\n",
       "      <td>FAKE</td>\n",
       "    </tr>\n",
       "  </tbody>\n",
       "</table>\n",
       "</div>"
      ],
      "text/plain": [
       "                                                body  \\\n",
       "0     Arizona Rep. Debbie Lesko speaks on how the...   \n",
       "1     White House correspondent Jacqui Heinrich r...   \n",
       "2     Republican voters in Georgia appear divided...   \n",
       "3  The Democratic-led House of Representatives on...   \n",
       "4     During a Senate Foreign Relations Committee...   \n",
       "5  Updated 1:08 PM EST, Fri December 16, 2022 Bri...   \n",
       "6     Fox News Flash top headlines are here. Chec...   \n",
       "7     Fox News congressional correspondent Chad P...   \n",
       "8  The Cyber Ninjas failed to prove fraud in the ...   \n",
       "9  Markets Fear & Greed Index  Latest Market News...   \n",
       "\n",
       "                                                 Url     site label  \n",
       "0  https://www.foxnews.com/politics/house-oversig...  FoxNews  REAL  \n",
       "1  https://www.foxnews.com/politics/twitter-flags...  FoxNews  REAL  \n",
       "2  https://www.foxnews.com/politics/watch-georgia...  FoxNews  REAL  \n",
       "3  https://www.cnn.com/2022/07/15/politics/house-...      CNN  REAL  \n",
       "4  https://www.foxnews.com/politics/democrat-sen-...  FoxNews  REAL  \n",
       "5  https://www.cnn.com/2022/08/04/sport/gallery/b...      CNN  FAKE  \n",
       "6  https://www.foxnews.com/politics/co-lawmakers-...  FoxNews  FAKE  \n",
       "7  https://www.foxnews.com/politics/dems-push-dec...  FoxNews  REAL  \n",
       "8  https://www.cnn.com/2021/09/27/politics/arizon...      CNN  FAKE  \n",
       "9  https://www.cnn.com/2022/10/27/tech/amazon-ear...      CNN  FAKE  "
      ]
     },
     "execution_count": 67,
     "metadata": {},
     "output_type": "execute_result"
    }
   ],
   "source": [
    "sample[[\"body\", \"Url\", \"site\", \"label\"]]"
   ]
  },
  {
   "cell_type": "code",
   "execution_count": 68,
   "id": "6a726208-b331-45f1-8b2e-eaa14293a196",
   "metadata": {},
   "outputs": [
    {
     "data": {
      "text/plain": [
       "array([<Axes: title={'center': 'CNN'}>,\n",
       "       <Axes: title={'center': 'FoxNews'}>], dtype=object)"
      ]
     },
     "execution_count": 68,
     "metadata": {},
     "output_type": "execute_result"
    },
    {
     "data": {
      "image/png": "[encoded data removed]",
      "text/plain": [
       "<Figure size 640x480 with 2 Axes>"
      ]
     },
     "metadata": {},
     "output_type": "display_data"
    }
   ],
   "source": [
    "df_both.hist(column=\"label\", by=\"site\")"
   ]
  },
  {
   "cell_type": "code",
   "execution_count": null,
   "id": "ba48909c-8472-4475-a476-596e9ca4ece7",
   "metadata": {},
   "outputs": [],
   "source": []
  }
 ],
 "metadata": {
  "kernelspec": {
   "display_name": "Python 3 (ipykernel)",
   "language": "python",
   "name": "python3"
  },
  "language_info": {
   "codemirror_mode": {
    "name": "ipython",
    "version": 3
   },
   "file_extension": ".py",
   "mimetype": "text/x-python",
   "name": "python",
   "nbconvert_exporter": "python",
   "pygments_lexer": "ipython3",
   "version": "3.10.8"
  }
 },
 "nbformat": 4,
 "nbformat_minor": 5
}
